{
 "cells": [
  {
   "cell_type": "code",
   "execution_count": 0,
   "metadata": {
    "application/vnd.databricks.v1+cell": {
     "cellMetadata": {
      "byteLimit": 2048000,
      "rowLimit": 10000
     },
     "inputWidgets": {},
     "nuid": "db5e31d9-3854-47bc-87f0-d43f5275f11e",
     "showTitle": false,
     "tableResultSettingsMap": {},
     "title": ""
    }
   },
   "outputs": [],
   "source": [
    "%run ./env-setup\n"
   ]
  },
  {
   "cell_type": "code",
   "execution_count": 0,
   "metadata": {
    "application/vnd.databricks.v1+cell": {
     "cellMetadata": {
      "byteLimit": 2048000,
      "rowLimit": 10000
     },
     "inputWidgets": {},
     "nuid": "f908d1b0-77c3-4218-8ded-ac2628427e44",
     "showTitle": false,
     "tableResultSettingsMap": {},
     "title": ""
    }
   },
   "outputs": [],
   "source": [
    "import uuid\n",
    "import time\n",
    "import boto3\n",
    "import pandas as pd\n",
    "import psycopg2\n",
    "from datetime import datetime\n",
    "from pyspark.sql import SparkSession\n",
    "from pyspark.sql import functions as F\n",
    "from pyspark.sql.window import Window\n",
    "import os"
   ]
  },
  {
   "cell_type": "code",
   "execution_count": 0,
   "metadata": {
    "application/vnd.databricks.v1+cell": {
     "cellMetadata": {
      "byteLimit": 2048000,
      "rowLimit": 10000
     },
     "inputWidgets": {},
     "nuid": "e08028e3-00f4-4bfe-a15e-9560b0347fb3",
     "showTitle": false,
     "tableResultSettingsMap": {},
     "title": ""
    }
   },
   "outputs": [],
   "source": [
    "AWS_ACCESS_KEY_ID = os.environ.get(\"AWS_ACCESS_KEY_ID\")\n",
    "AWS_SECRET_ACCESS_KEY = os.environ.get(\"AWS_SECRET_ACCESS_KEY\")\n",
    "AWS_REGION = os.environ.get(\"AWS_REGION\")\n",
    "S3_BUCKET = os.environ.get(\"S3_BUCKET\")\n",
    "S3_FOLDER = os.environ.get(\"S3_FOLDER\")\n",
    "S3_PREFIX = os.environ.get(\"S3_FOLDER\")\n",
    "S3_DESTINATION = os.environ.get(\"S3_DESTINATION\")\n",
    "\n",
    "PG_HOST = os.environ.get(\"PG_HOST\")\n",
    "PG_PORT = int(os.environ.get(\"PG_PORT\"))\n",
    "PG_DATABASE = os.environ.get(\"PG_DATABASE\")\n",
    "PG_USER = os.environ.get(\"PG_USER\")\n",
    "PG_PASSWORD = os.environ.get(\"PG_PASSWORD\")\n"
   ]
  },
  {
   "cell_type": "code",
   "execution_count": 0,
   "metadata": {
    "application/vnd.databricks.v1+cell": {
     "cellMetadata": {
      "byteLimit": 2048000,
      "rowLimit": 10000
     },
     "inputWidgets": {},
     "nuid": "228721aa-99dc-4808-96b2-424e36b00bff",
     "showTitle": false,
     "tableResultSettingsMap": {},
     "title": ""
    }
   },
   "outputs": [],
   "source": [
    "S3_INPUT_PATH = f\"s3a://{S3_BUCKET}/{S3_PREFIX}\"\n",
    "S3_OUTPUT_BASE = f\"s3a://{S3_BUCKET}/{S3_DESTINATION}\""
   ]
  },
  {
   "cell_type": "code",
   "execution_count": 0,
   "metadata": {
    "application/vnd.databricks.v1+cell": {
     "cellMetadata": {
      "byteLimit": 2048000,
      "rowLimit": 10000
     },
     "inputWidgets": {},
     "nuid": "59a08128-346f-46f0-bf22-4f75cf3f8f43",
     "showTitle": false,
     "tableResultSettingsMap": {},
     "title": ""
    }
   },
   "outputs": [],
   "source": [
    "# --- Spark Session --- #\n",
    "spark = SparkSession.builder \\\n",
    "    .appName(\"OptimizedPatternDetection\") \\\n",
    "    .config(\"spark.executor.memory\", \"4g\") \\\n",
    "    .config(\"spark.driver.memory\", \"4g\") \\\n",
    "    .config(\"spark.sql.shuffle.partitions\", \"8\") \\\n",
    "    .config(\"spark.serializer\", \"org.apache.spark.serializer.KryoSerializer\") \\\n",
    "    .config(\"fs.s3a.access.key\", AWS_ACCESS_KEY_ID) \\\n",
    "    .config(\"fs.s3a.secret.key\", AWS_SECRET_ACCESS_KEY) \\\n",
    "    .getOrCreate()\n",
    "\n",
    "# --- Boto3 S3 Client --- #\n",
    "s3 = boto3.client(\n",
    "    \"s3\",\n",
    "    aws_access_key_id=AWS_ACCESS_KEY_ID,\n",
    "    aws_secret_access_key=AWS_SECRET_ACCESS_KEY,\n",
    "    region_name=AWS_REGION\n",
    ")"
   ]
  },
  {
   "cell_type": "code",
   "execution_count": 0,
   "metadata": {
    "application/vnd.databricks.v1+cell": {
     "cellMetadata": {
      "byteLimit": 2048000,
      "rowLimit": 10000
     },
     "inputWidgets": {},
     "nuid": "70d45eae-61cf-4651-a8b3-55aacc5f3c65",
     "showTitle": false,
     "tableResultSettingsMap": {},
     "title": ""
    }
   },
   "outputs": [],
   "source": [
    "def setup_postgres_tracking():\n",
    "    \"\"\"Create tracking table with only required columns.\"\"\"\n",
    "    try:\n",
    "        conn = psycopg2.connect(\n",
    "            host=PG_HOST, port=PG_PORT,\n",
    "            database=PG_DATABASE, user=PG_USER, password=PG_PASSWORD\n",
    "        )\n",
    "        with conn.cursor() as cursor:\n",
    "            cursor.execute(\"\"\"\n",
    "                CREATE TABLE IF NOT EXISTS processed_files (\n",
    "                    file_key TEXT PRIMARY KEY,\n",
    "                    processed_at TIMESTAMP DEFAULT CURRENT_TIMESTAMP,\n",
    "                    status TEXT DEFAULT 'pending'\n",
    "                )\n",
    "            \"\"\")\n",
    "            conn.commit()\n",
    "            print(\"PostgreSQL tracking table ready\")\n",
    "    except Exception as e:\n",
    "        print(f\"PostgreSQL setup error: {e}\")\n",
    "    finally:\n",
    "        if conn:\n",
    "            conn.close()"
   ]
  },
  {
   "cell_type": "code",
   "execution_count": 0,
   "metadata": {
    "application/vnd.databricks.v1+cell": {
     "cellMetadata": {
      "byteLimit": 2048000,
      "rowLimit": 10000
     },
     "inputWidgets": {},
     "nuid": "5bfa899b-f769-4fb0-843d-7fe3b7134464",
     "showTitle": false,
     "tableResultSettingsMap": {},
     "title": ""
    }
   },
   "outputs": [],
   "source": [
    "def detect_patterns(transactions_df):\n",
    "    transactions_clean = transactions_df.withColumn(\"amount\", F.col(\"amount\").cast(\"double\"))\n",
    "    for column in [\"customer\", \"merchant\", \"gender\", \"category\"]:\n",
    "        transactions_clean = transactions_clean.withColumn(\n",
    "            column, F.regexp_replace(F.col(column), \"'\", \"\")\n",
    "        )\n",
    "\n",
    "    customer_imp_url = \"https://drive.google.com/uc?export=download&id=1abe9EkM_uf2F2hjEkbhMBG9Mf2dFE4Wo\"\n",
    "    customer_imp_pd = pd.read_csv(customer_imp_url, on_bad_lines='skip').drop(\"fraud\", axis=1)\n",
    "    customer_imp_pd.columns = customer_imp_pd.columns.str.strip().str.replace(\"'\", \"\")\n",
    "    for col in customer_imp_pd.select_dtypes(include=['object']):\n",
    "        customer_imp_pd[col] = customer_imp_pd[col].str.replace(\"'\", \"\")\n",
    "    customer_imp_spark = spark.createDataFrame(customer_imp_pd)\n",
    "\n",
    "    merged_df = transactions_clean.join(\n",
    "        F.broadcast(customer_imp_spark),\n",
    "        (transactions_clean.customer == customer_imp_spark.Source) & \n",
    "        (transactions_clean.merchant == customer_imp_spark.Target),\n",
    "        \"left\"\n",
    "    )\n",
    "    merged_df.createOrReplaceTempView(\"merged_transactions\")\n",
    "\n",
    "    pattern1 = spark.sql(\"\"\"\n",
    "        WITH merchant_stats AS (\n",
    "            SELECT merchant FROM merged_transactions \n",
    "            GROUP BY merchant HAVING COUNT(*) > 50000\n",
    "        ),\n",
    "        customer_metrics AS (\n",
    "            SELECT \n",
    "                customer,\n",
    "                merchant,\n",
    "                PERCENT_RANK() OVER (PARTITION BY merchant ORDER BY COUNT(*)) as txn_percentile,\n",
    "                PERCENT_RANK() OVER (PARTITION BY merchant ORDER BY AVG(Weight)) as weight_percentile\n",
    "            FROM merged_transactions\n",
    "            WHERE merchant IN (SELECT merchant FROM merchant_stats)\n",
    "            GROUP BY customer, merchant\n",
    "        )\n",
    "        SELECT \n",
    "            CURRENT_TIMESTAMP() as detectionTime,\n",
    "            'PatId1' as patternId,\n",
    "            'UPGRADE' as ActionType,\n",
    "            customer as customerName,\n",
    "            merchant as MerchantId\n",
    "        FROM customer_metrics\n",
    "        WHERE txn_percentile >= 0.99 AND weight_percentile <= 0.01\n",
    "    \"\"\")\n",
    "\n",
    "    pattern2 = spark.sql(\"\"\"\n",
    "        SELECT \n",
    "            CURRENT_TIMESTAMP() as detectionTime,\n",
    "            'PatId2' as patternId,\n",
    "            'CHILD' as ActionType,\n",
    "            customer as customerName,\n",
    "            merchant as MerchantId\n",
    "        FROM merged_transactions\n",
    "        GROUP BY customer, merchant\n",
    "        HAVING COUNT(*) >= 80 AND AVG(amount) < 23\n",
    "    \"\"\")\n",
    "\n",
    "    pattern3 = spark.sql(\"\"\"\n",
    "        SELECT \n",
    "            CURRENT_TIMESTAMP() as detectionTime,\n",
    "            'PatId3' as patternId,\n",
    "            'DEI-NEEDED' as ActionType,\n",
    "            '' as customerName,\n",
    "            merchant as MerchantId\n",
    "        FROM merged_transactions\n",
    "        WHERE gender IN ('M', 'F')\n",
    "        GROUP BY merchant\n",
    "        HAVING \n",
    "            SUM(CASE WHEN gender = 'F' THEN 1 ELSE 0 END) > 100 AND\n",
    "            SUM(CASE WHEN gender = 'M' THEN 1 ELSE 0 END) > \n",
    "            SUM(CASE WHEN gender = 'F' THEN 1 ELSE 0 END)\n",
    "    \"\"\")\n",
    "\n",
    "    return pattern1.unionByName(pattern2).unionByName(pattern3)"
   ]
  },
  {
   "cell_type": "code",
   "execution_count": 0,
   "metadata": {
    "application/vnd.databricks.v1+cell": {
     "cellMetadata": {
      "byteLimit": 2048000,
      "rowLimit": 10000
     },
     "inputWidgets": {},
     "nuid": "03e36caf-e596-4c66-a2f6-13cd27eb0f54",
     "showTitle": false,
     "tableResultSettingsMap": {},
     "title": ""
    }
   },
   "outputs": [],
   "source": [
    "def repartition_into_50row_chunks():\n",
    "    S3_RESULT_PATH= f\"s3a://{S3_BUCKET}/result/\"\n",
    "\n",
    "    combined_df = spark.read.parquet(f\"{S3_OUTPUT_BASE}/*/*.parquet\")\n",
    "    df_with_batches = combined_df.withColumn(\n",
    "        \"batch_id\", F.floor(F.row_number().over(Window.orderBy(F.monotonically_increasing_id())) / 50)\n",
    "    ).cache()\n",
    "\n",
    "    total_rows = df_with_batches.count()\n",
    "    num_batches = (total_rows // 50) + (1 if total_rows % 50 else 0)\n",
    "\n",
    "    df_with_batches.repartition(num_batches, \"batch_id\") \\\n",
    "        .write.partitionBy(\"batch_id\") \\\n",
    "        .option(\"maxRecordsPerFile\", 50) \\\n",
    "        .mode(\"overwrite\") \\\n",
    "        .parquet(f\"{S3_RESULT_PATH}\")\n",
    "\n",
    "    print(f\"Saved {total_rows} rows in {num_batches} batches of 50 rows each\")\n",
    "    df_with_batches.unpersist()"
   ]
  },
  {
   "cell_type": "code",
   "execution_count": 0,
   "metadata": {
    "application/vnd.databricks.v1+cell": {
     "cellMetadata": {
      "byteLimit": 2048000,
      "rowLimit": 10000
     },
     "inputWidgets": {},
     "nuid": "298185d3-f7ac-4737-b4ec-58f7b07e3bb8",
     "showTitle": false,
     "tableResultSettingsMap": {},
     "title": ""
    }
   },
   "outputs": [],
   "source": [
    "def process_all_chunks():\n",
    "    setup_postgres_tracking()\n",
    "\n",
    "    spark.conf.set(\"spark.hadoop.fs.s3a.connection.timeout\", \"600000\")\n",
    "    spark.conf.set(\"spark.hadoop.fs.s3a.attempts.maximum\", \"5\")\n",
    "    spark.conf.set(\"fs.s3a.committer.name\", \"directory\")\n",
    "\n",
    "    response = s3.list_objects_v2(Bucket=S3_BUCKET, Prefix=S3_PREFIX)\n",
    "\n",
    "    processed_files = set()\n",
    "    try:\n",
    "        conn = psycopg2.connect(\n",
    "            host=PG_HOST, port=PG_PORT,\n",
    "            database=PG_DATABASE, user=PG_USER, password=PG_PASSWORD\n",
    "        )\n",
    "        with conn.cursor() as cursor:\n",
    "            cursor.execute(\"SELECT file_key FROM processed_files WHERE status = 'completed'\")\n",
    "            processed_files = {row[0] for row in cursor.fetchall()}\n",
    "    except Exception as e:\n",
    "        print(f\"Warning: Could not fetch processed files from PostgreSQL: {e}\")\n",
    "    finally:\n",
    "        if 'conn' in locals():\n",
    "            conn.close()\n",
    "\n",
    "    for i, obj in enumerate(response.get(\"Contents\", [])):\n",
    "        file_key = obj[\"Key\"]\n",
    "\n",
    "        if not file_key.endswith(\".csv\") or file_key in processed_files:\n",
    "            continue\n",
    "\n",
    "        processing_start = time.time()\n",
    "        conn = None\n",
    "\n",
    "        try:\n",
    "            print(f\"\\nProcessing file {i}: {file_key}\")\n",
    "\n",
    "            conn = psycopg2.connect(\n",
    "                host=PG_HOST, port=PG_PORT,\n",
    "                database=PG_DATABASE, user=PG_USER, password=PG_PASSWORD\n",
    "            )\n",
    "            with conn.cursor() as cursor:\n",
    "                cursor.execute(\"\"\"\n",
    "                    INSERT INTO processed_files (file_key, status)\n",
    "                    VALUES (%s, 'processing')\n",
    "                    ON CONFLICT (file_key) DO UPDATE SET\n",
    "                        status = 'processing',\n",
    "                        processed_at = CURRENT_TIMESTAMP\n",
    "                \"\"\", (file_key,))\n",
    "                conn.commit()\n",
    "\n",
    "            df = spark.read.csv(f\"s3a://{S3_BUCKET}/{file_key}\", header=True)\n",
    "            detections = detect_patterns(df)\n",
    "            rows_processed = df.count()\n",
    "            detection_count = detections.count()\n",
    "\n",
    "            save_path = f\"{S3_OUTPUT_BASE}/chunk_{i}_{int(time.time())}\"\n",
    "            detections.repartition(8).write.mode(\"append\").option(\"compression\", \"snappy\").parquet(save_path)\n",
    "\n",
    "            with conn.cursor() as cursor:\n",
    "                cursor.execute(\"\"\"\n",
    "                    UPDATE processed_files SET\n",
    "                        status = 'completed',\n",
    "                        processed_at = CURRENT_TIMESTAMP\n",
    "                    WHERE file_key = %s\n",
    "                \"\"\", (file_key,))\n",
    "                conn.commit()\n",
    "\n",
    "            print(f\"✅ Processed {rows_processed} rows, found {detection_count} detections\")\n",
    "\n",
    "        except Exception as e:\n",
    "            print(f\"❌ Failed processing {file_key}: {e}\")\n",
    "            if conn:\n",
    "                try:\n",
    "                    with conn.cursor() as cursor:\n",
    "                        cursor.execute(\"\"\"\n",
    "                            UPDATE processed_files SET\n",
    "                                status = 'failed',\n",
    "                                processed_at = CURRENT_TIMESTAMP\n",
    "                            WHERE file_key = %s\n",
    "                        \"\"\", (file_key,))\n",
    "                        conn.commit()\n",
    "                except Exception as db_error:\n",
    "                    print(f\"⚠️ Could not record failure: {db_error}\")\n",
    "        finally:\n",
    "            if conn:\n",
    "                conn.close()\n",
    "\n",
    "    print(\"\\n✅ All file processing complete.\")\n",
    "    repartition_into_50row_chunks()"
   ]
  },
  {
   "cell_type": "code",
   "execution_count": 0,
   "metadata": {
    "application/vnd.databricks.v1+cell": {
     "cellMetadata": {
      "byteLimit": 2048000,
      "rowLimit": 10000
     },
     "inputWidgets": {},
     "nuid": "2f820123-e6a6-42df-b955-fd45a33bb3cd",
     "showTitle": false,
     "tableResultSettingsMap": {},
     "title": ""
    }
   },
   "outputs": [
    {
     "output_type": "stream",
     "name": "stdout",
     "output_type": "stream",
     "text": [
      "PostgreSQL tracking table ready\n\n✅ All file processing complete.\nSaved 74437 rows in 1489 batches of 50 rows each\n"
     ]
    }
   ],
   "source": [
    "process_all_chunks()"
   ]
  },
  {
   "cell_type": "code",
   "execution_count": 0,
   "metadata": {
    "application/vnd.databricks.v1+cell": {
     "cellMetadata": {
      "byteLimit": 2048000,
      "rowLimit": 10000
     },
     "inputWidgets": {},
     "nuid": "5f488040-a366-4f0c-8a86-e8d727836796",
     "showTitle": false,
     "tableResultSettingsMap": {},
     "title": ""
    }
   },
   "outputs": [
    {
     "output_type": "display_data",
     "data": {
      "text/html": [
       "<style scoped>\n",
       "  .ansiout {\n",
       "    display: block;\n",
       "    unicode-bidi: embed;\n",
       "    white-space: pre-wrap;\n",
       "    word-wrap: break-word;\n",
       "    word-break: break-all;\n",
       "    font-family: \"Menlo\", \"Monaco\", \"Consolas\", \"Ubuntu Mono\", \"Source Code Pro\", monospace;\n",
       "    font-size: 13px;\n",
       "    color: #555;\n",
       "    margin-left: 4px;\n",
       "    line-height: 19px;\n",
       "  }\n",
       "</style>"
      ]
     },
     "metadata": {
      "application/vnd.databricks.v1+output": {
       "arguments": {},
       "data": "",
       "errorSummary": "Cancelled",
       "errorTraceType": "html",
       "metadata": {},
       "type": "ipynbError"
      }
     },
     "output_type": "display_data"
    }
   ],
   "source": [
    "test_file=spark.read.parquet(f's3a://{S3_BUCKET}/result/batch_id=1014/*.parquet')"
   ]
  },
  {
   "cell_type": "code",
   "execution_count": 0,
   "metadata": {
    "application/vnd.databricks.v1+cell": {
     "cellMetadata": {
      "byteLimit": 2048000,
      "rowLimit": 10000
     },
     "inputWidgets": {},
     "nuid": "603d6095-e1fd-4c37-a9e1-73b440edabab",
     "showTitle": false,
     "tableResultSettingsMap": {},
     "title": ""
    }
   },
   "outputs": [
    {
     "output_type": "stream",
     "name": "stdout",
     "output_type": "stream",
     "text": [
      "⬇️ Downloading result/_SUCCESS → /tmp/s3_result_downloads/_SUCCESS\n⬇️ Downloading result/_committed_7780928008968029570 → /tmp/s3_result_downloads/_committed_7780928008968029570\n⬇️ Downloading result/batch_id=0/_SUCCESS → /tmp/s3_result_downloads/_SUCCESS\n⬇️ Downloading result/batch_id=0/_committed_7780928008968029570 → /tmp/s3_result_downloads/_committed_7780928008968029570\n⬇️ Downloading result/batch_id=0/_committed_9094343648041532070 → /tmp/s3_result_downloads/_committed_9094343648041532070\n⬇️ Downloading result/batch_id=0/_started_7780928008968029570 → /tmp/s3_result_downloads/_started_7780928008968029570\n⬇️ Downloading result/batch_id=0/_started_9094343648041532070 → /tmp/s3_result_downloads/_started_9094343648041532070\n⬇️ Downloading result/batch_id=0/part-00336-tid-7780928008968029570-6ecf0772-0486-474c-a19e-24c5b00da5ff-7430-1.c000.snappy.parquet → /tmp/s3_result_downloads/part-00336-tid-7780928008968029570-6ecf0772-0486-474c-a19e-24c5b00da5ff-7430-1.c000.snappy.parquet\n⬇️ Downloading result/batch_id=1/_SUCCESS → /tmp/s3_result_downloads/_SUCCESS\n⬇️ Downloading result/batch_id=1/_committed_7780928008968029570 → /tmp/s3_result_downloads/_committed_7780928008968029570\n⬇️ Downloading result/batch_id=1/_committed_9094343648041532070 → /tmp/s3_result_downloads/_committed_9094343648041532070\n⬇️ Downloading result/batch_id=1/_started_7780928008968029570 → /tmp/s3_result_downloads/_started_7780928008968029570\n⬇️ Downloading result/batch_id=1/_started_9094343648041532070 → /tmp/s3_result_downloads/_started_9094343648041532070\n⬇️ Downloading result/batch_id=1/part-00889-tid-7780928008968029570-6ecf0772-0486-474c-a19e-24c5b00da5ff-7983-1.c000.snappy.parquet → /tmp/s3_result_downloads/part-00889-tid-7780928008968029570-6ecf0772-0486-474c-a19e-24c5b00da5ff-7983-1.c000.snappy.parquet\n⬇️ Downloading result/batch_id=10/_SUCCESS → /tmp/s3_result_downloads/_SUCCESS\n⬇️ Downloading result/batch_id=10/_committed_7780928008968029570 → /tmp/s3_result_downloads/_committed_7780928008968029570\n⬇️ Downloading result/batch_id=10/_committed_9094343648041532070 → /tmp/s3_result_downloads/_committed_9094343648041532070\n⬇️ Downloading result/batch_id=10/_started_7780928008968029570 → /tmp/s3_result_downloads/_started_7780928008968029570\n⬇️ Downloading result/batch_id=10/_started_9094343648041532070 → /tmp/s3_result_downloads/_started_9094343648041532070\n⬇️ Downloading result/batch_id=10/part-01378-tid-7780928008968029570-6ecf0772-0486-474c-a19e-24c5b00da5ff-8473-1.c000.snappy.parquet → /tmp/s3_result_downloads/part-01378-tid-7780928008968029570-6ecf0772-0486-474c-a19e-24c5b00da5ff-8473-1.c000.snappy.parquet\n⬇️ Downloading result/batch_id=100/_SUCCESS → /tmp/s3_result_downloads/_SUCCESS\n⬇️ Downloading result/batch_id=100/_committed_7780928008968029570 → /tmp/s3_result_downloads/_committed_7780928008968029570\n⬇️ Downloading result/batch_id=100/_committed_9094343648041532070 → /tmp/s3_result_downloads/_committed_9094343648041532070\n⬇️ Downloading result/batch_id=100/_started_7780928008968029570 → /tmp/s3_result_downloads/_started_7780928008968029570\n⬇️ Downloading result/batch_id=100/_started_9094343648041532070 → /tmp/s3_result_downloads/_started_9094343648041532070\n⬇️ Downloading result/batch_id=100/part-00943-tid-7780928008968029570-6ecf0772-0486-474c-a19e-24c5b00da5ff-8037-1.c000.snappy.parquet → /tmp/s3_result_downloads/part-00943-tid-7780928008968029570-6ecf0772-0486-474c-a19e-24c5b00da5ff-8037-1.c000.snappy.parquet\n⬇️ Downloading result/batch_id=1000/_SUCCESS → /tmp/s3_result_downloads/_SUCCESS\n⬇️ Downloading result/batch_id=1000/_committed_7780928008968029570 → /tmp/s3_result_downloads/_committed_7780928008968029570\n⬇️ Downloading result/batch_id=1000/_committed_9094343648041532070 → /tmp/s3_result_downloads/_committed_9094343648041532070\n⬇️ Downloading result/batch_id=1000/_started_7780928008968029570 → /tmp/s3_result_downloads/_started_7780928008968029570\n⬇️ Downloading result/batch_id=1000/_started_9094343648041532070 → /tmp/s3_result_downloads/_started_9094343648041532070\n⬇️ Downloading result/batch_id=1000/part-00715-tid-7780928008968029570-6ecf0772-0486-474c-a19e-24c5b00da5ff-7809-1.c000.snappy.parquet → /tmp/s3_result_downloads/part-00715-tid-7780928008968029570-6ecf0772-0486-474c-a19e-24c5b00da5ff-7809-1.c000.snappy.parquet\n⬇️ Downloading result/batch_id=1001/_SUCCESS → /tmp/s3_result_downloads/_SUCCESS\n⬇️ Downloading result/batch_id=1001/_committed_7780928008968029570 → /tmp/s3_result_downloads/_committed_7780928008968029570\n⬇️ Downloading result/batch_id=1001/_committed_9094343648041532070 → /tmp/s3_result_downloads/_committed_9094343648041532070\n⬇️ Downloading result/batch_id=1001/_started_7780928008968029570 → /tmp/s3_result_downloads/_started_7780928008968029570\n⬇️ Downloading result/batch_id=1001/_started_9094343648041532070 → /tmp/s3_result_downloads/_started_9094343648041532070\n⬇️ Downloading result/batch_id=1001/part-00506-tid-7780928008968029570-6ecf0772-0486-474c-a19e-24c5b00da5ff-7600-1.c000.snappy.parquet → /tmp/s3_result_downloads/part-00506-tid-7780928008968029570-6ecf0772-0486-474c-a19e-24c5b00da5ff-7600-1.c000.snappy.parquet\n⬇️ Downloading result/batch_id=1002/_SUCCESS → /tmp/s3_result_downloads/_SUCCESS\n⬇️ Downloading result/batch_id=1002/_committed_7780928008968029570 → /tmp/s3_result_downloads/_committed_7780928008968029570\n⬇️ Downloading result/batch_id=1002/_committed_9094343648041532070 → /tmp/s3_result_downloads/_committed_9094343648041532070\n⬇️ Downloading result/batch_id=1002/_started_7780928008968029570 → /tmp/s3_result_downloads/_started_7780928008968029570\n⬇️ Downloading result/batch_id=1002/_started_9094343648041532070 → /tmp/s3_result_downloads/_started_9094343648041532070\n⬇️ Downloading result/batch_id=1002/part-00079-tid-7780928008968029570-6ecf0772-0486-474c-a19e-24c5b00da5ff-7173-2.c000.snappy.parquet → /tmp/s3_result_downloads/part-00079-tid-7780928008968029570-6ecf0772-0486-474c-a19e-24c5b00da5ff-7173-2.c000.snappy.parquet\n⬇️ Downloading result/batch_id=1003/_SUCCESS → /tmp/s3_result_downloads/_SUCCESS\n⬇️ Downloading result/batch_id=1003/_committed_7780928008968029570 → /tmp/s3_result_downloads/_committed_7780928008968029570\n⬇️ Downloading result/batch_id=1003/_committed_9094343648041532070 → /tmp/s3_result_downloads/_committed_9094343648041532070\n⬇️ Downloading result/batch_id=1003/_started_7780928008968029570 → /tmp/s3_result_downloads/_started_7780928008968029570\n⬇️ Downloading result/batch_id=1003/_started_9094343648041532070 → /tmp/s3_result_downloads/_started_9094343648041532070\n⬇️ Downloading result/batch_id=1003/part-00819-tid-7780928008968029570-6ecf0772-0486-474c-a19e-24c5b00da5ff-7913-2.c000.snappy.parquet → /tmp/s3_result_downloads/part-00819-tid-7780928008968029570-6ecf0772-0486-474c-a19e-24c5b00da5ff-7913-2.c000.snappy.parquet\n⬇️ Downloading result/batch_id=1004/_SUCCESS → /tmp/s3_result_downloads/_SUCCESS\n⬇️ Downloading result/batch_id=1004/_committed_7780928008968029570 → /tmp/s3_result_downloads/_committed_7780928008968029570\n⬇️ Downloading result/batch_id=1004/_committed_9094343648041532070 → /tmp/s3_result_downloads/_committed_9094343648041532070\n⬇️ Downloading result/batch_id=1004/_started_7780928008968029570 → /tmp/s3_result_downloads/_started_7780928008968029570\n⬇️ Downloading result/batch_id=1004/_started_9094343648041532070 → /tmp/s3_result_downloads/_started_9094343648041532070\n⬇️ Downloading result/batch_id=1004/part-00914-tid-7780928008968029570-6ecf0772-0486-474c-a19e-24c5b00da5ff-8008-2.c000.snappy.parquet → /tmp/s3_result_downloads/part-00914-tid-7780928008968029570-6ecf0772-0486-474c-a19e-24c5b00da5ff-8008-2.c000.snappy.parquet\n⬇️ Downloading result/batch_id=1005/_SUCCESS → /tmp/s3_result_downloads/_SUCCESS\n⬇️ Downloading result/batch_id=1005/_committed_7780928008968029570 → /tmp/s3_result_downloads/_committed_7780928008968029570\n⬇️ Downloading result/batch_id=1005/_committed_9094343648041532070 → /tmp/s3_result_downloads/_committed_9094343648041532070\n⬇️ Downloading result/batch_id=1005/_started_7780928008968029570 → /tmp/s3_result_downloads/_started_7780928008968029570\n⬇️ Downloading result/batch_id=1005/_started_9094343648041532070 → /tmp/s3_result_downloads/_started_9094343648041532070\n⬇️ Downloading result/batch_id=1005/part-01020-tid-7780928008968029570-6ecf0772-0486-474c-a19e-24c5b00da5ff-8114-1.c000.snappy.parquet → /tmp/s3_result_downloads/part-01020-tid-7780928008968029570-6ecf0772-0486-474c-a19e-24c5b00da5ff-8114-1.c000.snappy.parquet\n⬇️ Downloading result/batch_id=1006/_SUCCESS → /tmp/s3_result_downloads/_SUCCESS\n⬇️ Downloading result/batch_id=1006/_committed_7780928008968029570 → /tmp/s3_result_downloads/_committed_7780928008968029570\n⬇️ Downloading result/batch_id=1006/_committed_9094343648041532070 → /tmp/s3_result_downloads/_committed_9094343648041532070\n⬇️ Downloading result/batch_id=1006/_started_7780928008968029570 → /tmp/s3_result_downloads/_started_7780928008968029570\n⬇️ Downloading result/batch_id=1006/_started_9094343648041532070 → /tmp/s3_result_downloads/_started_9094343648041532070\n⬇️ Downloading result/batch_id=1006/part-00669-tid-7780928008968029570-6ecf0772-0486-474c-a19e-24c5b00da5ff-7763-3.c000.snappy.parquet → /tmp/s3_result_downloads/part-00669-tid-7780928008968029570-6ecf0772-0486-474c-a19e-24c5b00da5ff-7763-3.c000.snappy.parquet\n⬇️ Downloading result/batch_id=1007/_SUCCESS → /tmp/s3_result_downloads/_SUCCESS\n⬇️ Downloading result/batch_id=1007/_committed_7780928008968029570 → /tmp/s3_result_downloads/_committed_7780928008968029570\n⬇️ Downloading result/batch_id=1007/_committed_9094343648041532070 → /tmp/s3_result_downloads/_committed_9094343648041532070\n⬇️ Downloading result/batch_id=1007/_started_7780928008968029570 → /tmp/s3_result_downloads/_started_7780928008968029570\n⬇️ Downloading result/batch_id=1007/_started_9094343648041532070 → /tmp/s3_result_downloads/_started_9094343648041532070\n⬇️ Downloading result/batch_id=1007/part-01102-tid-7780928008968029570-6ecf0772-0486-474c-a19e-24c5b00da5ff-8196-2.c000.snappy.parquet → /tmp/s3_result_downloads/part-01102-tid-7780928008968029570-6ecf0772-0486-474c-a19e-24c5b00da5ff-8196-2.c000.snappy.parquet\n⬇️ Downloading result/batch_id=1008/_SUCCESS → /tmp/s3_result_downloads/_SUCCESS\n⬇️ Downloading result/batch_id=1008/_committed_7780928008968029570 → /tmp/s3_result_downloads/_committed_7780928008968029570\n⬇️ Downloading result/batch_id=1008/_committed_9094343648041532070 → /tmp/s3_result_downloads/_committed_9094343648041532070\n⬇️ Downloading result/batch_id=1008/_started_7780928008968029570 → /tmp/s3_result_downloads/_started_7780928008968029570\n⬇️ Downloading result/batch_id=1008/_started_9094343648041532070 → /tmp/s3_result_downloads/_started_9094343648041532070\n⬇️ Downloading result/batch_id=1008/part-00105-tid-7780928008968029570-6ecf0772-0486-474c-a19e-24c5b00da5ff-7199-1.c000.snappy.parquet → /tmp/s3_result_downloads/part-00105-tid-7780928008968029570-6ecf0772-0486-474c-a19e-24c5b00da5ff-7199-1.c000.snappy.parquet\n⬇️ Downloading result/batch_id=1009/_SUCCESS → /tmp/s3_result_downloads/_SUCCESS\n⬇️ Downloading result/batch_id=1009/_committed_7780928008968029570 → /tmp/s3_result_downloads/_committed_7780928008968029570\n⬇️ Downloading result/batch_id=1009/_committed_9094343648041532070 → /tmp/s3_result_downloads/_committed_9094343648041532070\n⬇️ Downloading result/batch_id=1009/_started_7780928008968029570 → /tmp/s3_result_downloads/_started_7780928008968029570\n⬇️ Downloading result/batch_id=1009/_started_9094343648041532070 → /tmp/s3_result_downloads/_started_9094343648041532070\n⬇️ Downloading result/batch_id=1009/part-01455-tid-7780928008968029570-6ecf0772-0486-474c-a19e-24c5b00da5ff-8550-2.c000.snappy.parquet → /tmp/s3_result_downloads/part-01455-tid-7780928008968029570-6ecf0772-0486-474c-a19e-24c5b00da5ff-8550-2.c000.snappy.parquet\n⬇️ Downloading result/batch_id=101/_SUCCESS → /tmp/s3_result_downloads/_SUCCESS\n⬇️ Downloading result/batch_id=101/_committed_7780928008968029570 → /tmp/s3_result_downloads/_committed_7780928008968029570\n⬇️ Downloading result/batch_id=101/_committed_9094343648041532070 → /tmp/s3_result_downloads/_committed_9094343648041532070\n⬇️ Downloading result/batch_id=101/_started_7780928008968029570 → /tmp/s3_result_downloads/_started_7780928008968029570\n⬇️ Downloading result/batch_id=101/_started_9094343648041532070 → /tmp/s3_result_downloads/_started_9094343648041532070\n⬇️ Downloading result/batch_id=101/part-01359-tid-7780928008968029570-6ecf0772-0486-474c-a19e-24c5b00da5ff-8453-1.c000.snappy.parquet → /tmp/s3_result_downloads/part-01359-tid-7780928008968029570-6ecf0772-0486-474c-a19e-24c5b00da5ff-8453-1.c000.snappy.parquet\n⬇️ Downloading result/batch_id=1010/_SUCCESS → /tmp/s3_result_downloads/_SUCCESS\n⬇️ Downloading result/batch_id=1010/_committed_7780928008968029570 → /tmp/s3_result_downloads/_committed_7780928008968029570\n⬇️ Downloading result/batch_id=1010/_committed_9094343648041532070 → /tmp/s3_result_downloads/_committed_9094343648041532070\n⬇️ Downloading result/batch_id=1010/_started_7780928008968029570 → /tmp/s3_result_downloads/_started_7780928008968029570\n⬇️ Downloading result/batch_id=1010/_started_9094343648041532070 → /tmp/s3_result_downloads/_started_9094343648041532070\n⬇️ Downloading result/batch_id=1010/part-00145-tid-7780928008968029570-6ecf0772-0486-474c-a19e-24c5b00da5ff-7239-1.c000.snappy.parquet → /tmp/s3_result_downloads/part-00145-tid-7780928008968029570-6ecf0772-0486-474c-a19e-24c5b00da5ff-7239-1.c000.snappy.parquet\n⬇️ Downloading result/batch_id=1011/_SUCCESS → /tmp/s3_result_downloads/_SUCCESS\n⬇️ Downloading result/batch_id=1011/_committed_7780928008968029570 → /tmp/s3_result_downloads/_committed_7780928008968029570\n⬇️ Downloading result/batch_id=1011/_committed_9094343648041532070 → /tmp/s3_result_downloads/_committed_9094343648041532070\n⬇️ Downloading result/batch_id=1011/_started_7780928008968029570 → /tmp/s3_result_downloads/_started_7780928008968029570\n⬇️ Downloading result/batch_id=1011/_started_9094343648041532070 → /tmp/s3_result_downloads/_started_9094343648041532070\n⬇️ Downloading result/batch_id=1011/part-01009-tid-7780928008968029570-6ecf0772-0486-474c-a19e-24c5b00da5ff-8103-2.c000.snappy.parquet → /tmp/s3_result_downloads/part-01009-tid-7780928008968029570-6ecf0772-0486-474c-a19e-24c5b00da5ff-8103-2.c000.snappy.parquet\n⬇️ Downloading result/batch_id=1012/_SUCCESS → /tmp/s3_result_downloads/_SUCCESS\n⬇️ Downloading result/batch_id=1012/_committed_7780928008968029570 → /tmp/s3_result_downloads/_committed_7780928008968029570\n⬇️ Downloading result/batch_id=1012/_committed_9094343648041532070 → /tmp/s3_result_downloads/_committed_9094343648041532070\n⬇️ Downloading result/batch_id=1012/_started_7780928008968029570 → /tmp/s3_result_downloads/_started_7780928008968029570\n⬇️ Downloading result/batch_id=1012/_started_9094343648041532070 → /tmp/s3_result_downloads/_started_9094343648041532070\n⬇️ Downloading result/batch_id=1012/part-01279-tid-7780928008968029570-6ecf0772-0486-474c-a19e-24c5b00da5ff-8373-1.c000.snappy.parquet → /tmp/s3_result_downloads/part-01279-tid-7780928008968029570-6ecf0772-0486-474c-a19e-24c5b00da5ff-8373-1.c000.snappy.parquet\n⬇️ Downloading result/batch_id=1013/_SUCCESS → /tmp/s3_result_downloads/_SUCCESS\n⬇️ Downloading result/batch_id=1013/_committed_7780928008968029570 → /tmp/s3_result_downloads/_committed_7780928008968029570\n⬇️ Downloading result/batch_id=1013/_committed_9094343648041532070 → /tmp/s3_result_downloads/_committed_9094343648041532070\n⬇️ Downloading result/batch_id=1013/_started_7780928008968029570 → /tmp/s3_result_downloads/_started_7780928008968029570\n⬇️ Downloading result/batch_id=1013/_started_9094343648041532070 → /tmp/s3_result_downloads/_started_9094343648041532070\n⬇️ Downloading result/batch_id=1013/part-01159-tid-7780928008968029570-6ecf0772-0486-474c-a19e-24c5b00da5ff-8253-2.c000.snappy.parquet → /tmp/s3_result_downloads/part-01159-tid-7780928008968029570-6ecf0772-0486-474c-a19e-24c5b00da5ff-8253-2.c000.snappy.parquet\n⬇️ Downloading result/batch_id=1014/_SUCCESS → /tmp/s3_result_downloads/_SUCCESS\n⬇️ Downloading result/batch_id=1014/_committed_7780928008968029570 → /tmp/s3_result_downloads/_committed_7780928008968029570\n⬇️ Downloading result/batch_id=1014/_committed_9094343648041532070 → /tmp/s3_result_downloads/_committed_9094343648041532070\n⬇️ Downloading result/batch_id=1014/_started_7780928008968029570 → /tmp/s3_result_downloads/_started_7780928008968029570\n⬇️ Downloading result/batch_id=1014/_started_9094343648041532070 → /tmp/s3_result_downloads/_started_9094343648041532070\n⬇️ Downloading result/batch_id=1014/part-00002-tid-7780928008968029570-6ecf0772-0486-474c-a19e-24c5b00da5ff-7096-1.c000.snappy.parquet → /tmp/s3_result_downloads/part-00002-tid-7780928008968029570-6ecf0772-0486-474c-a19e-24c5b00da5ff-7096-1.c000.snappy.parquet\n⬇️ Downloading result/batch_id=1015/_SUCCESS → /tmp/s3_result_downloads/_SUCCESS\n⬇️ Downloading result/batch_id=1015/_committed_7780928008968029570 → /tmp/s3_result_downloads/_committed_7780928008968029570\n⬇️ Downloading result/batch_id=1015/_committed_9094343648041532070 → /tmp/s3_result_downloads/_committed_9094343648041532070\n⬇️ Downloading result/batch_id=1015/_started_7780928008968029570 → /tmp/s3_result_downloads/_started_7780928008968029570\n⬇️ Downloading result/batch_id=1015/_started_9094343648041532070 → /tmp/s3_result_downloads/_started_9094343648041532070\n⬇️ Downloading result/batch_id=1015/part-00587-tid-7780928008968029570-6ecf0772-0486-474c-a19e-24c5b00da5ff-7681-3.c000.snappy.parquet → /tmp/s3_result_downloads/part-00587-tid-7780928008968029570-6ecf0772-0486-474c-a19e-24c5b00da5ff-7681-3.c000.snappy.parquet\n⬇️ Downloading result/batch_id=1016/_SUCCESS → /tmp/s3_result_downloads/_SUCCESS\n⬇️ Downloading result/batch_id=1016/_committed_7780928008968029570 → /tmp/s3_result_downloads/_committed_7780928008968029570\n⬇️ Downloading result/batch_id=1016/_committed_9094343648041532070 → /tmp/s3_result_downloads/_committed_9094343648041532070\n⬇️ Downloading result/batch_id=1016/_started_7780928008968029570 → /tmp/s3_result_downloads/_started_7780928008968029570\n⬇️ Downloading result/batch_id=1016/_started_9094343648041532070 → /tmp/s3_result_downloads/_started_9094343648041532070\n⬇️ Downloading result/batch_id=1016/part-00988-tid-7780928008968029570-6ecf0772-0486-474c-a19e-24c5b00da5ff-8082-1.c000.snappy.parquet → /tmp/s3_result_downloads/part-00988-tid-7780928008968029570-6ecf0772-0486-474c-a19e-24c5b00da5ff-8082-1.c000.snappy.parquet\n⬇️ Downloading result/batch_id=1017/_SUCCESS → /tmp/s3_result_downloads/_SUCCESS\n⬇️ Downloading result/batch_id=1017/_committed_7780928008968029570 → /tmp/s3_result_downloads/_committed_7780928008968029570\n⬇️ Downloading result/batch_id=1017/_committed_9094343648041532070 → /tmp/s3_result_downloads/_committed_9094343648041532070\n⬇️ Downloading result/batch_id=1017/_started_7780928008968029570 → /tmp/s3_result_downloads/_started_7780928008968029570\n⬇️ Downloading result/batch_id=1017/_started_9094343648041532070 → /tmp/s3_result_downloads/_started_9094343648041532070\n⬇️ Downloading result/batch_id=1017/part-01418-tid-7780928008968029570-6ecf0772-0486-474c-a19e-24c5b00da5ff-8513-1.c000.snappy.parquet → /tmp/s3_result_downloads/part-01418-tid-7780928008968029570-6ecf0772-0486-474c-a19e-24c5b00da5ff-8513-1.c000.snappy.parquet\n⬇️ Downloading result/batch_id=1018/_SUCCESS → /tmp/s3_result_downloads/_SUCCESS\n⬇️ Downloading result/batch_id=1018/_committed_7780928008968029570 → /tmp/s3_result_downloads/_committed_7780928008968029570\n⬇️ Downloading result/batch_id=1018/_committed_9094343648041532070 → /tmp/s3_result_downloads/_committed_9094343648041532070\n⬇️ Downloading result/batch_id=1018/_started_7780928008968029570 → /tmp/s3_result_downloads/_started_7780928008968029570\n⬇️ Downloading result/batch_id=1018/_started_9094343648041532070 → /tmp/s3_result_downloads/_started_9094343648041532070\n⬇️ Downloading result/batch_id=1018/part-00771-tid-7780928008968029570-6ecf0772-0486-474c-a19e-24c5b00da5ff-7865-1.c000.snappy.parquet → /tmp/s3_result_downloads/part-00771-tid-7780928008968029570-6ecf0772-0486-474c-a19e-24c5b00da5ff-7865-1.c000.snappy.parquet\n⬇️ Downloading result/batch_id=1019/_SUCCESS → /tmp/s3_result_downloads/_SUCCESS\n⬇️ Downloading result/batch_id=1019/_committed_7780928008968029570 → /tmp/s3_result_downloads/_committed_7780928008968029570\n⬇️ Downloading result/batch_id=1019/_committed_9094343648041532070 → /tmp/s3_result_downloads/_committed_9094343648041532070\n⬇️ Downloading result/batch_id=1019/_started_7780928008968029570 → /tmp/s3_result_downloads/_started_7780928008968029570\n⬇️ Downloading result/batch_id=1019/_started_9094343648041532070 → /tmp/s3_result_downloads/_started_9094343648041532070\n⬇️ Downloading result/batch_id=1019/part-01363-tid-7780928008968029570-6ecf0772-0486-474c-a19e-24c5b00da5ff-8457-2.c000.snappy.parquet → /tmp/s3_result_downloads/part-01363-tid-7780928008968029570-6ecf0772-0486-474c-a19e-24c5b00da5ff-8457-2.c000.snappy.parquet\n⬇️ Downloading result/batch_id=102/_SUCCESS → /tmp/s3_result_downloads/_SUCCESS\n⬇️ Downloading result/batch_id=102/_committed_7780928008968029570 → /tmp/s3_result_downloads/_committed_7780928008968029570\n⬇️ Downloading result/batch_id=102/_committed_9094343648041532070 → /tmp/s3_result_downloads/_committed_9094343648041532070\n⬇️ Downloading result/batch_id=102/_started_7780928008968029570 → /tmp/s3_result_downloads/_started_7780928008968029570\n⬇️ Downloading result/batch_id=102/_started_9094343648041532070 → /tmp/s3_result_downloads/_started_9094343648041532070\n⬇️ Downloading result/batch_id=102/part-01145-tid-7780928008968029570-6ecf0772-0486-474c-a19e-24c5b00da5ff-8239-1.c000.snappy.parquet → /tmp/s3_result_downloads/part-01145-tid-7780928008968029570-6ecf0772-0486-474c-a19e-24c5b00da5ff-8239-1.c000.snappy.parquet\n⬇️ Downloading result/batch_id=1020/_SUCCESS → /tmp/s3_result_downloads/_SUCCESS\n⬇️ Downloading result/batch_id=1020/_committed_7780928008968029570 → /tmp/s3_result_downloads/_committed_7780928008968029570\n⬇️ Downloading result/batch_id=1020/_committed_9094343648041532070 → /tmp/s3_result_downloads/_committed_9094343648041532070\n⬇️ Downloading result/batch_id=1020/_started_7780928008968029570 → /tmp/s3_result_downloads/_started_7780928008968029570\n⬇️ Downloading result/batch_id=1020/_started_9094343648041532070 → /tmp/s3_result_downloads/_started_9094343648041532070\n⬇️ Downloading result/batch_id=1020/part-01372-tid-7780928008968029570-6ecf0772-0486-474c-a19e-24c5b00da5ff-8466-1.c000.snappy.parquet → /tmp/s3_result_downloads/part-01372-tid-7780928008968029570-6ecf0772-0486-474c-a19e-24c5b00da5ff-8466-1.c000.snappy.parquet\n⬇️ Downloading result/batch_id=1021/_SUCCESS → /tmp/s3_result_downloads/_SUCCESS\n⬇️ Downloading result/batch_id=1021/_committed_7780928008968029570 → /tmp/s3_result_downloads/_committed_7780928008968029570\n⬇️ Downloading result/batch_id=1021/_committed_9094343648041532070 → /tmp/s3_result_downloads/_committed_9094343648041532070\n⬇️ Downloading result/batch_id=1021/_started_7780928008968029570 → /tmp/s3_result_downloads/_started_7780928008968029570\n⬇️ Downloading result/batch_id=1021/_started_9094343648041532070 → /tmp/s3_result_downloads/_started_9094343648041532070\n⬇️ Downloading result/batch_id=1021/part-00997-tid-7780928008968029570-6ecf0772-0486-474c-a19e-24c5b00da5ff-8091-2.c000.snappy.parquet → /tmp/s3_result_downloads/part-00997-tid-7780928008968029570-6ecf0772-0486-474c-a19e-24c5b00da5ff-8091-2.c000.snappy.parquet\n⬇️ Downloading result/batch_id=1022/_SUCCESS → /tmp/s3_result_downloads/_SUCCESS\n⬇️ Downloading result/batch_id=1022/_committed_7780928008968029570 → /tmp/s3_result_downloads/_committed_7780928008968029570\n⬇️ Downloading result/batch_id=1022/_committed_9094343648041532070 → /tmp/s3_result_downloads/_committed_9094343648041532070\n⬇️ Downloading result/batch_id=1022/_started_7780928008968029570 → /tmp/s3_result_downloads/_started_7780928008968029570\n⬇️ Downloading result/batch_id=1022/_started_9094343648041532070 → /tmp/s3_result_downloads/_started_9094343648041532070\n⬇️ Downloading result/batch_id=1022/part-00721-tid-7780928008968029570-6ecf0772-0486-474c-a19e-24c5b00da5ff-7815-3.c000.snappy.parquet → /tmp/s3_result_downloads/part-00721-tid-7780928008968029570-6ecf0772-0486-474c-a19e-24c5b00da5ff-7815-3.c000.snappy.parquet\n⬇️ Downloading result/batch_id=1023/_SUCCESS → /tmp/s3_result_downloads/_SUCCESS\n⬇️ Downloading result/batch_id=1023/_committed_7780928008968029570 → /tmp/s3_result_downloads/_committed_7780928008968029570\n⬇️ Downloading result/batch_id=1023/_committed_9094343648041532070 → /tmp/s3_result_downloads/_committed_9094343648041532070\n⬇️ Downloading result/batch_id=1023/_started_7780928008968029570 → /tmp/s3_result_downloads/_started_7780928008968029570\n⬇️ Downloading result/batch_id=1023/_started_9094343648041532070 → /tmp/s3_result_downloads/_started_9094343648041532070\n⬇️ Downloading result/batch_id=1023/part-01380-tid-7780928008968029570-6ecf0772-0486-474c-a19e-24c5b00da5ff-8475-2.c000.snappy.pa\n\n*** WARNING: max output size exceeded, skipping output. ***\n\n8029570 → /tmp/s3_result_downloads/_committed_7780928008968029570\n⬇️ Downloading result/batch_id=489/_committed_9094343648041532070 → /tmp/s3_result_downloads/_committed_9094343648041532070\n⬇️ Downloading result/batch_id=489/_started_7780928008968029570 → /tmp/s3_result_downloads/_started_7780928008968029570\n⬇️ Downloading result/batch_id=489/_started_9094343648041532070 → /tmp/s3_result_downloads/_started_9094343648041532070\n⬇️ Downloading result/batch_id=489/part-00186-tid-7780928008968029570-6ecf0772-0486-474c-a19e-24c5b00da5ff-7280-1.c000.snappy.parquet → /tmp/s3_result_downloads/part-00186-tid-7780928008968029570-6ecf0772-0486-474c-a19e-24c5b00da5ff-7280-1.c000.snappy.parquet\n⬇️ Downloading result/batch_id=49/_SUCCESS → /tmp/s3_result_downloads/_SUCCESS\n⬇️ Downloading result/batch_id=49/_committed_7780928008968029570 → /tmp/s3_result_downloads/_committed_7780928008968029570\n⬇️ Downloading result/batch_id=49/_committed_9094343648041532070 → /tmp/s3_result_downloads/_committed_9094343648041532070\n⬇️ Downloading result/batch_id=49/_started_7780928008968029570 → /tmp/s3_result_downloads/_started_7780928008968029570\n⬇️ Downloading result/batch_id=49/_started_9094343648041532070 → /tmp/s3_result_downloads/_started_9094343648041532070\n⬇️ Downloading result/batch_id=49/part-00838-tid-7780928008968029570-6ecf0772-0486-474c-a19e-24c5b00da5ff-7932-1.c000.snappy.parquet → /tmp/s3_result_downloads/part-00838-tid-7780928008968029570-6ecf0772-0486-474c-a19e-24c5b00da5ff-7932-1.c000.snappy.parquet\n⬇️ Downloading result/batch_id=490/_SUCCESS → /tmp/s3_result_downloads/_SUCCESS\n⬇️ Downloading result/batch_id=490/_committed_7780928008968029570 → /tmp/s3_result_downloads/_committed_7780928008968029570\n⬇️ Downloading result/batch_id=490/_committed_9094343648041532070 → /tmp/s3_result_downloads/_committed_9094343648041532070\n⬇️ Downloading result/batch_id=490/_started_7780928008968029570 → /tmp/s3_result_downloads/_started_7780928008968029570\n⬇️ Downloading result/batch_id=490/_started_9094343648041532070 → /tmp/s3_result_downloads/_started_9094343648041532070\n⬇️ Downloading result/batch_id=490/part-00742-tid-7780928008968029570-6ecf0772-0486-474c-a19e-24c5b00da5ff-7836-1.c000.snappy.parquet → /tmp/s3_result_downloads/part-00742-tid-7780928008968029570-6ecf0772-0486-474c-a19e-24c5b00da5ff-7836-1.c000.snappy.parquet\n⬇️ Downloading result/batch_id=491/_SUCCESS → /tmp/s3_result_downloads/_SUCCESS\n⬇️ Downloading result/batch_id=491/_committed_7780928008968029570 → /tmp/s3_result_downloads/_committed_7780928008968029570\n⬇️ Downloading result/batch_id=491/_committed_9094343648041532070 → /tmp/s3_result_downloads/_committed_9094343648041532070\n⬇️ Downloading result/batch_id=491/_started_7780928008968029570 → /tmp/s3_result_downloads/_started_7780928008968029570\n⬇️ Downloading result/batch_id=491/_started_9094343648041532070 → /tmp/s3_result_downloads/_started_9094343648041532070\n⬇️ Downloading result/batch_id=491/part-00945-tid-7780928008968029570-6ecf0772-0486-474c-a19e-24c5b00da5ff-8039-2.c000.snappy.parquet → /tmp/s3_result_downloads/part-00945-tid-7780928008968029570-6ecf0772-0486-474c-a19e-24c5b00da5ff-8039-2.c000.snappy.parquet\n⬇️ Downloading result/batch_id=492/_SUCCESS → /tmp/s3_result_downloads/_SUCCESS\n⬇️ Downloading result/batch_id=492/_committed_7780928008968029570 → /tmp/s3_result_downloads/_committed_7780928008968029570\n⬇️ Downloading result/batch_id=492/_committed_9094343648041532070 → /tmp/s3_result_downloads/_committed_9094343648041532070\n⬇️ Downloading result/batch_id=492/_started_7780928008968029570 → /tmp/s3_result_downloads/_started_7780928008968029570\n⬇️ Downloading result/batch_id=492/_started_9094343648041532070 → /tmp/s3_result_downloads/_started_9094343648041532070\n⬇️ Downloading result/batch_id=492/part-00643-tid-7780928008968029570-6ecf0772-0486-474c-a19e-24c5b00da5ff-7737-2.c000.snappy.parquet → /tmp/s3_result_downloads/part-00643-tid-7780928008968029570-6ecf0772-0486-474c-a19e-24c5b00da5ff-7737-2.c000.snappy.parquet\n⬇️ Downloading result/batch_id=493/_SUCCESS → /tmp/s3_result_downloads/_SUCCESS\n⬇️ Downloading result/batch_id=493/_committed_7780928008968029570 → /tmp/s3_result_downloads/_committed_7780928008968029570\n⬇️ Downloading result/batch_id=493/_committed_9094343648041532070 → /tmp/s3_result_downloads/_committed_9094343648041532070\n⬇️ Downloading result/batch_id=493/_started_7780928008968029570 → /tmp/s3_result_downloads/_started_7780928008968029570\n⬇️ Downloading result/batch_id=493/_started_9094343648041532070 → /tmp/s3_result_downloads/_started_9094343648041532070\n⬇️ Downloading result/batch_id=493/part-00129-tid-7780928008968029570-6ecf0772-0486-474c-a19e-24c5b00da5ff-7223-2.c000.snappy.parquet → /tmp/s3_result_downloads/part-00129-tid-7780928008968029570-6ecf0772-0486-474c-a19e-24c5b00da5ff-7223-2.c000.snappy.parquet\n⬇️ Downloading result/batch_id=494/_SUCCESS → /tmp/s3_result_downloads/_SUCCESS\n⬇️ Downloading result/batch_id=494/_committed_7780928008968029570 → /tmp/s3_result_downloads/_committed_7780928008968029570\n⬇️ Downloading result/batch_id=494/_committed_9094343648041532070 → /tmp/s3_result_downloads/_committed_9094343648041532070\n⬇️ Downloading result/batch_id=494/_started_7780928008968029570 → /tmp/s3_result_downloads/_started_7780928008968029570\n⬇️ Downloading result/batch_id=494/_started_9094343648041532070 → /tmp/s3_result_downloads/_started_9094343648041532070\n⬇️ Downloading result/batch_id=494/part-00816-tid-7780928008968029570-6ecf0772-0486-474c-a19e-24c5b00da5ff-7910-2.c000.snappy.parquet → /tmp/s3_result_downloads/part-00816-tid-7780928008968029570-6ecf0772-0486-474c-a19e-24c5b00da5ff-7910-2.c000.snappy.parquet\n⬇️ Downloading result/batch_id=495/_SUCCESS → /tmp/s3_result_downloads/_SUCCESS\n⬇️ Downloading result/batch_id=495/_committed_7780928008968029570 → /tmp/s3_result_downloads/_committed_7780928008968029570\n⬇️ Downloading result/batch_id=495/_committed_9094343648041532070 → /tmp/s3_result_downloads/_committed_9094343648041532070\n⬇️ Downloading result/batch_id=495/_started_7780928008968029570 → /tmp/s3_result_downloads/_started_7780928008968029570\n⬇️ Downloading result/batch_id=495/_started_9094343648041532070 → /tmp/s3_result_downloads/_started_9094343648041532070\n⬇️ Downloading result/batch_id=495/part-00035-tid-7780928008968029570-6ecf0772-0486-474c-a19e-24c5b00da5ff-7129-1.c000.snappy.parquet → /tmp/s3_result_downloads/part-00035-tid-7780928008968029570-6ecf0772-0486-474c-a19e-24c5b00da5ff-7129-1.c000.snappy.parquet\n⬇️ Downloading result/batch_id=496/_SUCCESS → /tmp/s3_result_downloads/_SUCCESS\n⬇️ Downloading result/batch_id=496/_committed_7780928008968029570 → /tmp/s3_result_downloads/_committed_7780928008968029570\n⬇️ Downloading result/batch_id=496/_committed_9094343648041532070 → /tmp/s3_result_downloads/_committed_9094343648041532070\n⬇️ Downloading result/batch_id=496/_started_7780928008968029570 → /tmp/s3_result_downloads/_started_7780928008968029570\n⬇️ Downloading result/batch_id=496/_started_9094343648041532070 → /tmp/s3_result_downloads/_started_9094343648041532070\n⬇️ Downloading result/batch_id=496/part-00382-tid-7780928008968029570-6ecf0772-0486-474c-a19e-24c5b00da5ff-7476-1.c000.snappy.parquet → /tmp/s3_result_downloads/part-00382-tid-7780928008968029570-6ecf0772-0486-474c-a19e-24c5b00da5ff-7476-1.c000.snappy.parquet\n⬇️ Downloading result/batch_id=497/_SUCCESS → /tmp/s3_result_downloads/_SUCCESS\n⬇️ Downloading result/batch_id=497/_committed_7780928008968029570 → /tmp/s3_result_downloads/_committed_7780928008968029570\n⬇️ Downloading result/batch_id=497/_committed_9094343648041532070 → /tmp/s3_result_downloads/_committed_9094343648041532070\n⬇️ Downloading result/batch_id=497/_started_7780928008968029570 → /tmp/s3_result_downloads/_started_7780928008968029570\n⬇️ Downloading result/batch_id=497/_started_9094343648041532070 → /tmp/s3_result_downloads/_started_9094343648041532070\n⬇️ Downloading result/batch_id=497/part-00509-tid-7780928008968029570-6ecf0772-0486-474c-a19e-24c5b00da5ff-7603-1.c000.snappy.parquet → /tmp/s3_result_downloads/part-00509-tid-7780928008968029570-6ecf0772-0486-474c-a19e-24c5b00da5ff-7603-1.c000.snappy.parquet\n⬇️ Downloading result/batch_id=498/_SUCCESS → /tmp/s3_result_downloads/_SUCCESS\n⬇️ Downloading result/batch_id=498/_committed_7780928008968029570 → /tmp/s3_result_downloads/_committed_7780928008968029570\n⬇️ Downloading result/batch_id=498/_committed_9094343648041532070 → /tmp/s3_result_downloads/_committed_9094343648041532070\n⬇️ Downloading result/batch_id=498/_started_7780928008968029570 → /tmp/s3_result_downloads/_started_7780928008968029570\n⬇️ Downloading result/batch_id=498/_started_9094343648041532070 → /tmp/s3_result_downloads/_started_9094343648041532070\n⬇️ Downloading result/batch_id=498/part-00156-tid-7780928008968029570-6ecf0772-0486-474c-a19e-24c5b00da5ff-7250-1.c000.snappy.parquet → /tmp/s3_result_downloads/part-00156-tid-7780928008968029570-6ecf0772-0486-474c-a19e-24c5b00da5ff-7250-1.c000.snappy.parquet\n⬇️ Downloading result/batch_id=499/_SUCCESS → /tmp/s3_result_downloads/_SUCCESS\n⬇️ Downloading result/batch_id=499/_committed_7780928008968029570 → /tmp/s3_result_downloads/_committed_7780928008968029570\n⬇️ Downloading result/batch_id=499/_committed_9094343648041532070 → /tmp/s3_result_downloads/_committed_9094343648041532070\n⬇️ Downloading result/batch_id=499/_started_7780928008968029570 → /tmp/s3_result_downloads/_started_7780928008968029570\n⬇️ Downloading result/batch_id=499/_started_9094343648041532070 → /tmp/s3_result_downloads/_started_9094343648041532070\n⬇️ Downloading result/batch_id=499/part-00231-tid-7780928008968029570-6ecf0772-0486-474c-a19e-24c5b00da5ff-7325-2.c000.snappy.parquet → /tmp/s3_result_downloads/part-00231-tid-7780928008968029570-6ecf0772-0486-474c-a19e-24c5b00da5ff-7325-2.c000.snappy.parquet\n⬇️ Downloading result/batch_id=5/_SUCCESS → /tmp/s3_result_downloads/_SUCCESS\n⬇️ Downloading result/batch_id=5/_committed_7780928008968029570 → /tmp/s3_result_downloads/_committed_7780928008968029570\n⬇️ Downloading result/batch_id=5/_committed_9094343648041532070 → /tmp/s3_result_downloads/_committed_9094343648041532070\n⬇️ Downloading result/batch_id=5/_started_7780928008968029570 → /tmp/s3_result_downloads/_started_7780928008968029570\n⬇️ Downloading result/batch_id=5/_started_9094343648041532070 → /tmp/s3_result_downloads/_started_9094343648041532070\n⬇️ Downloading result/batch_id=5/part-01019-tid-7780928008968029570-6ecf0772-0486-474c-a19e-24c5b00da5ff-8113-1.c000.snappy.parquet → /tmp/s3_result_downloads/part-01019-tid-7780928008968029570-6ecf0772-0486-474c-a19e-24c5b00da5ff-8113-1.c000.snappy.parquet\n⬇️ Downloading result/batch_id=50/_SUCCESS → /tmp/s3_result_downloads/_SUCCESS\n⬇️ Downloading result/batch_id=50/_committed_7780928008968029570 → /tmp/s3_result_downloads/_committed_7780928008968029570\n⬇️ Downloading result/batch_id=50/_committed_9094343648041532070 → /tmp/s3_result_downloads/_committed_9094343648041532070\n⬇️ Downloading result/batch_id=50/_started_7780928008968029570 → /tmp/s3_result_downloads/_started_7780928008968029570\n⬇️ Downloading result/batch_id=50/_started_9094343648041532070 → /tmp/s3_result_downloads/_started_9094343648041532070\n⬇️ Downloading result/batch_id=50/part-00075-tid-7780928008968029570-6ecf0772-0486-474c-a19e-24c5b00da5ff-7169-1.c000.snappy.parquet → /tmp/s3_result_downloads/part-00075-tid-7780928008968029570-6ecf0772-0486-474c-a19e-24c5b00da5ff-7169-1.c000.snappy.parquet\n⬇️ Downloading result/batch_id=500/_SUCCESS → /tmp/s3_result_downloads/_SUCCESS\n⬇️ Downloading result/batch_id=500/_committed_7780928008968029570 → /tmp/s3_result_downloads/_committed_7780928008968029570\n⬇️ Downloading result/batch_id=500/_committed_9094343648041532070 → /tmp/s3_result_downloads/_committed_9094343648041532070\n⬇️ Downloading result/batch_id=500/_started_7780928008968029570 → /tmp/s3_result_downloads/_started_7780928008968029570\n⬇️ Downloading result/batch_id=500/_started_9094343648041532070 → /tmp/s3_result_downloads/_started_9094343648041532070\n⬇️ Downloading result/batch_id=500/part-00625-tid-7780928008968029570-6ecf0772-0486-474c-a19e-24c5b00da5ff-7719-1.c000.snappy.parquet → /tmp/s3_result_downloads/part-00625-tid-7780928008968029570-6ecf0772-0486-474c-a19e-24c5b00da5ff-7719-1.c000.snappy.parquet\n⬇️ Downloading result/batch_id=501/_SUCCESS → /tmp/s3_result_downloads/_SUCCESS\n⬇️ Downloading result/batch_id=501/_committed_7780928008968029570 → /tmp/s3_result_downloads/_committed_7780928008968029570\n⬇️ Downloading result/batch_id=501/_committed_9094343648041532070 → /tmp/s3_result_downloads/_committed_9094343648041532070\n⬇️ Downloading result/batch_id=501/_started_7780928008968029570 → /tmp/s3_result_downloads/_started_7780928008968029570\n⬇️ Downloading result/batch_id=501/_started_9094343648041532070 → /tmp/s3_result_downloads/_started_9094343648041532070\n⬇️ Downloading result/batch_id=501/part-00541-tid-7780928008968029570-6ecf0772-0486-474c-a19e-24c5b00da5ff-7635-1.c000.snappy.parquet → /tmp/s3_result_downloads/part-00541-tid-7780928008968029570-6ecf0772-0486-474c-a19e-24c5b00da5ff-7635-1.c000.snappy.parquet\n⬇️ Downloading result/batch_id=502/_SUCCESS → /tmp/s3_result_downloads/_SUCCESS\n⬇️ Downloading result/batch_id=502/_committed_7780928008968029570 → /tmp/s3_result_downloads/_committed_7780928008968029570\n⬇️ Downloading result/batch_id=502/_committed_9094343648041532070 → /tmp/s3_result_downloads/_committed_9094343648041532070\n⬇️ Downloading result/batch_id=502/_started_7780928008968029570 → /tmp/s3_result_downloads/_started_7780928008968029570\n⬇️ Downloading result/batch_id=502/_started_9094343648041532070 → /tmp/s3_result_downloads/_started_9094343648041532070\n⬇️ Downloading result/batch_id=502/part-00962-tid-7780928008968029570-6ecf0772-0486-474c-a19e-24c5b00da5ff-8056-1.c000.snappy.parquet → /tmp/s3_result_downloads/part-00962-tid-7780928008968029570-6ecf0772-0486-474c-a19e-24c5b00da5ff-8056-1.c000.snappy.parquet\n⬇️ Downloading result/batch_id=503/_SUCCESS → /tmp/s3_result_downloads/_SUCCESS\n⬇️ Downloading result/batch_id=503/_committed_7780928008968029570 → /tmp/s3_result_downloads/_committed_7780928008968029570\n⬇️ Downloading result/batch_id=503/_committed_9094343648041532070 → /tmp/s3_result_downloads/_committed_9094343648041532070\n⬇️ Downloading result/batch_id=503/_started_7780928008968029570 → /tmp/s3_result_downloads/_started_7780928008968029570\n⬇️ Downloading result/batch_id=503/_started_9094343648041532070 → /tmp/s3_result_downloads/_started_9094343648041532070\n⬇️ Downloading result/batch_id=503/part-00349-tid-7780928008968029570-6ecf0772-0486-474c-a19e-24c5b00da5ff-7443-1.c000.snappy.parquet → /tmp/s3_result_downloads/part-00349-tid-7780928008968029570-6ecf0772-0486-474c-a19e-24c5b00da5ff-7443-1.c000.snappy.parquet\n⬇️ Downloading result/batch_id=504/_SUCCESS → /tmp/s3_result_downloads/_SUCCESS\n⬇️ Downloading result/batch_id=504/_committed_7780928008968029570 → /tmp/s3_result_downloads/_committed_7780928008968029570\n⬇️ Downloading result/batch_id=504/_committed_9094343648041532070 → /tmp/s3_result_downloads/_committed_9094343648041532070\n⬇️ Downloading result/batch_id=504/_started_7780928008968029570 → /tmp/s3_result_downloads/_started_7780928008968029570\n⬇️ Downloading result/batch_id=504/_started_9094343648041532070 → /tmp/s3_result_downloads/_started_9094343648041532070\n⬇️ Downloading result/batch_id=504/part-00904-tid-7780928008968029570-6ecf0772-0486-474c-a19e-24c5b00da5ff-7998-1.c000.snappy.parquet → /tmp/s3_result_downloads/part-00904-tid-7780928008968029570-6ecf0772-0486-474c-a19e-24c5b00da5ff-7998-1.c000.snappy.parquet\n⬇️ Downloading result/batch_id=505/_SUCCESS → /tmp/s3_result_downloads/_SUCCESS\n⬇️ Downloading result/batch_id=505/_committed_7780928008968029570 → /tmp/s3_result_downloads/_committed_7780928008968029570\n⬇️ Downloading result/batch_id=505/_committed_9094343648041532070 → /tmp/s3_result_downloads/_committed_9094343648041532070\n⬇️ Downloading result/batch_id=505/_started_7780928008968029570 → /tmp/s3_result_downloads/_started_7780928008968029570\n⬇️ Downloading result/batch_id=505/_started_9094343648041532070 → /tmp/s3_result_downloads/_started_9094343648041532070\n⬇️ Downloading result/batch_id=505/part-01169-tid-7780928008968029570-6ecf0772-0486-474c-a19e-24c5b00da5ff-8263-2.c000.snappy.parquet → /tmp/s3_result_downloads/part-01169-tid-7780928008968029570-6ecf0772-0486-474c-a19e-24c5b00da5ff-8263-2.c000.snappy.parquet\n⬇️ Downloading result/batch_id=506/_SUCCESS → /tmp/s3_result_downloads/_SUCCESS\n⬇️ Downloading result/batch_id=506/_committed_7780928008968029570 → /tmp/s3_result_downloads/_committed_7780928008968029570\n⬇️ Downloading result/batch_id=506/_committed_9094343648041532070 → /tmp/s3_result_downloads/_committed_9094343648041532070\n⬇️ Downloading result/batch_id=506/_started_7780928008968029570 → /tmp/s3_result_downloads/_started_7780928008968029570\n⬇️ Downloading result/batch_id=506/_started_9094343648041532070 → /tmp/s3_result_downloads/_started_9094343648041532070\n⬇️ Downloading result/batch_id=506/part-00058-tid-7780928008968029570-6ecf0772-0486-474c-a19e-24c5b00da5ff-7152-2.c000.snappy.parquet → /tmp/s3_result_downloads/part-00058-tid-7780928008968029570-6ecf0772-0486-474c-a19e-24c5b00da5ff-7152-2.c000.snappy.parquet\n⬇️ Downloading result/batch_id=507/_SUCCESS → /tmp/s3_result_downloads/_SUCCESS\n⬇️ Downloading result/batch_id=507/_committed_7780928008968029570 → /tmp/s3_result_downloads/_committed_7780928008968029570\n⬇️ Downloading result/batch_id=507/_committed_9094343648041532070 → /tmp/s3_result_downloads/_committed_9094343648041532070\n⬇️ Downloading result/batch_id=507/_started_7780928008968029570 → /tmp/s3_result_downloads/_started_7780928008968029570\n⬇️ Downloading result/batch_id=507/_started_9094343648041532070 → /tmp/s3_result_downloads/_started_9094343648041532070\n⬇️ Downloading result/batch_id=507/part-01158-tid-7780928008968029570-6ecf0772-0486-474c-a19e-24c5b00da5ff-8252-3.c000.snappy.parquet → /tmp/s3_result_downloads/part-01158-tid-7780928008968029570-6ecf0772-0486-474c-a19e-24c5b00da5ff-8252-3.c000.snappy.parquet\n⬇️ Downloading result/batch_id=508/_SUCCESS → /tmp/s3_result_downloads/_SUCCESS\n⬇️ Downloading result/batch_id=508/_committed_7780928008968029570 → /tmp/s3_result_downloads/_committed_7780928008968029570\n⬇️ Downloading result/batch_id=508/_committed_9094343648041532070 → /tmp/s3_result_downloads/_committed_9094343648041532070\n⬇️ Downloading result/batch_id=508/_started_7780928008968029570 → /tmp/s3_result_downloads/_started_7780928008968029570\n⬇️ Downloading result/batch_id=508/_started_9094343648041532070 → /tmp/s3_result_downloads/_started_9094343648041532070\n⬇️ Downloading result/batch_id=508/part-00615-tid-7780928008968029570-6ecf0772-0486-474c-a19e-24c5b00da5ff-7709-1.c000.snappy.parquet → /tmp/s3_result_downloads/part-00615-tid-7780928008968029570-6ecf0772-0486-474c-a19e-24c5b00da5ff-7709-1.c000.snappy.parquet\n⬇️ Downloading result/batch_id=509/_SUCCESS → /tmp/s3_result_downloads/_SUCCESS\n⬇️ Downloading result/batch_id=509/_committed_7780928008968029570 → /tmp/s3_result_downloads/_committed_7780928008968029570\n⬇️ Downloading result/batch_id=509/_committed_9094343648041532070 → /tmp/s3_result_downloads/_committed_9094343648041532070\n⬇️ Downloading result/batch_id=509/_started_7780928008968029570 → /tmp/s3_result_downloads/_started_7780928008968029570\n⬇️ Downloading result/batch_id=509/_started_9094343648041532070 → /tmp/s3_result_downloads/_started_9094343648041532070\n⬇️ Downloading result/batch_id=509/part-00777-tid-7780928008968029570-6ecf0772-0486-474c-a19e-24c5b00da5ff-7871-1.c000.snappy.parquet → /tmp/s3_result_downloads/part-00777-tid-7780928008968029570-6ecf0772-0486-474c-a19e-24c5b00da5ff-7871-1.c000.snappy.parquet\n⬇️ Downloading result/batch_id=51/_SUCCESS → /tmp/s3_result_downloads/_SUCCESS\n⬇️ Downloading result/batch_id=51/_committed_7780928008968029570 → /tmp/s3_result_downloads/_committed_7780928008968029570\n⬇️ Downloading result/batch_id=51/_committed_9094343648041532070 → /tmp/s3_result_downloads/_committed_9094343648041532070\n⬇️ Downloading result/batch_id=51/_started_7780928008968029570 → /tmp/s3_result_downloads/_started_7780928008968029570\n⬇️ Downloading result/batch_id=51/_started_9094343648041532070 → /tmp/s3_result_downloads/_started_9094343648041532070\n⬇️ Downloading result/batch_id=51/part-01348-tid-7780928008968029570-6ecf0772-0486-474c-a19e-24c5b00da5ff-8442-1.c000.snappy.parquet → /tmp/s3_result_downloads/part-01348-tid-7780928008968029570-6ecf0772-0486-474c-a19e-24c5b00da5ff-8442-1.c000.snappy.parquet\n⬇️ Downloading result/batch_id=510/_SUCCESS → /tmp/s3_result_downloads/_SUCCESS\n⬇️ Downloading result/batch_id=510/_committed_7780928008968029570 → /tmp/s3_result_downloads/_committed_7780928008968029570\n⬇️ Downloading result/batch_id=510/_committed_9094343648041532070 → /tmp/s3_result_downloads/_committed_9094343648041532070\n⬇️ Downloading result/batch_id=510/_started_7780928008968029570 → /tmp/s3_result_downloads/_started_7780928008968029570\n⬇️ Downloading result/batch_id=510/_started_9094343648041532070 → /tmp/s3_result_downloads/_started_9094343648041532070\n⬇️ Downloading result/batch_id=510/part-01216-tid-7780928008968029570-6ecf0772-0486-474c-a19e-24c5b00da5ff-8310-1.c000.snappy.parquet → /tmp/s3_result_downloads/part-01216-tid-7780928008968029570-6ecf0772-0486-474c-a19e-24c5b00da5ff-8310-1.c000.snappy.parquet\n⬇️ Downloading result/batch_id=511/_SUCCESS → /tmp/s3_result_downloads/_SUCCESS\n⬇️ Downloading result/batch_id=511/_committed_7780928008968029570 → /tmp/s3_result_downloads/_committed_7780928008968029570\n⬇️ Downloading result/batch_id=511/_committed_9094343648041532070 → /tmp/s3_result_downloads/_committed_9094343648041532070\n⬇️ Downloading result/batch_id=511/_started_7780928008968029570 → /tmp/s3_result_downloads/_started_7780928008968029570\n⬇️ Downloading result/batch_id=511/_started_9094343648041532070 → /tmp/s3_result_downloads/_started_9094343648041532070\n⬇️ Downloading result/batch_id=511/part-00085-tid-7780928008968029570-6ecf0772-0486-474c-a19e-24c5b00da5ff-7179-1.c000.snappy.parquet → /tmp/s3_result_downloads/part-00085-tid-7780928008968029570-6ecf0772-0486-474c-a19e-24c5b00da5ff-7179-1.c000.snappy.parquet\n⬇️ Downloading result/batch_id=512/_SUCCESS → /tmp/s3_result_downloads/_SUCCESS\n⬇️ Downloading result/batch_id=512/_committed_7780928008968029570 → /tmp/s3_result_downloads/_committed_7780928008968029570\n⬇️ Downloading result/batch_id=512/_committed_9094343648041532070 → /tmp/s3_result_downloads/_committed_9094343648041532070\n⬇️ Downloading result/batch_id=512/_started_7780928008968029570 → /tmp/s3_result_downloads/_started_7780928008968029570\n⬇️ Downloading result/batch_id=512/_started_9094343648041532070 → /tmp/s3_result_downloads/_started_9094343648041532070\n⬇️ Downloading result/batch_id=512/part-00520-tid-7780928008968029570-6ecf0772-0486-474c-a19e-24c5b00da5ff-7614-2.c000.snappy.parquet → /tmp/s3_result_downloads/part-00520-tid-7780928008968029570-6ecf0772-0486-474c-a19e-24c5b00da5ff-7614-2.c000.snappy.parquet\n⬇️ Downloading result/batch_id=513/_SUCCESS → /tmp/s3_result_downloads/_SUCCESS\n⬇️ Downloading result/batch_id=513/_committed_7780928008968029570 → /tmp/s3_result_downloads/_committed_7780928008968029570\n⬇️ Downloading result/batch_id=513/_committed_9094343648041532070 → /tmp/s3_result_downloads/_committed_9094343648041532070\n⬇️ Downloading result/batch_id=513/_started_7780928008968029570 → /tmp/s3_result_downloads/_started_7780928008968029570\n⬇️ Downloading result/batch_id=513/_started_9094343648041532070 → /tmp/s3_result_downloads/_started_9094343648041532070\n⬇️ Downloading result/batch_id=513/part-00483-tid-7780928008968029570-6ecf0772-0486-474c-a19e-24c5b00da5ff-7577-2.c000.snappy.parquet → /tmp/s3_result_downloads/part-00483-tid-7780928008968029570-6ecf0772-0486-474c-a19e-24c5b00da5ff-7577-2.c000.snappy.parquet\n⬇️ Downloading result/batch_id=514/_SUCCESS → /tmp/s3_result_downloads/_SUCCESS\n⬇️ Downloading result/batch_id=514/_committed_7780928008968029570 → /tmp/s3_result_downloads/_committed_7780928008968029570\n⬇️ Downloading result/batch_id=514/_committed_9094343648041532070 → /tmp/s3_result_downloads/_committed_9094343648041532070\n⬇️ Downloading result/batch_id=514/_started_7780928008968029570 → /tmp/s3_result_downloads/_started_7780928008968029570\n⬇️ Downloading result/batch_id=514/_started_9094343648041532070 → /tmp/s3_result_downloads/_started_9094343648041532070\n⬇️ Downloading result/batch_id=514/part-00730-tid-7780928008968029570-6ecf0772-0486-474c-a19e-24c5b00da5ff-7824-1.c000.snappy.parquet → /tmp/s3_result_downloads/part-00730-tid-7780928008968029570-6ecf0772-0486-474c-a19e-24c5b00da5ff-7824-1.c000.snappy.parquet\n⬇️ Downloading result/batch_id=515/_SUCCESS → /tmp/s3_result_downloads/_SUCCESS\n⬇️ Downloading result/batch_id=515/_committed_7780928008968029570 → /tmp/s3_result_downloads/_committed_7780928008968029570\n⬇️ Downloading result/batch_id=515/_committed_9094343648041532070 → /tmp/s3_result_downloads/_committed_9094343648041532070\n"
     ]
    },
    {
     "output_type": "display_data",
     "data": {
      "text/html": [
       "<style scoped>\n",
       "  .ansiout {\n",
       "    display: block;\n",
       "    unicode-bidi: embed;\n",
       "    white-space: pre-wrap;\n",
       "    word-wrap: break-word;\n",
       "    word-break: break-all;\n",
       "    font-family: \"Menlo\", \"Monaco\", \"Consolas\", \"Ubuntu Mono\", \"Source Code Pro\", monospace;\n",
       "    font-size: 13px;\n",
       "    color: #555;\n",
       "    margin-left: 4px;\n",
       "    line-height: 19px;\n",
       "  }\n",
       "</style>"
      ]
     },
     "metadata": {
      "application/vnd.databricks.v1+output": {
       "arguments": {},
       "data": "",
       "errorSummary": "Cancelled",
       "errorTraceType": "html",
       "metadata": {},
       "type": "ipynbError"
      }
     },
     "output_type": "display_data"
    }
   ],
   "source": [
    "import boto3\n",
    "import os\n",
    "\n",
    "# --- AWS Credentials (ensure these are loaded via .env or environment vars) --- #\n",
    "AWS_ACCESS_KEY_ID = os.environ.get(\"AWS_ACCESS_KEY_ID\")\n",
    "AWS_SECRET_ACCESS_KEY = os.environ.get(\"AWS_SECRET_ACCESS_KEY\")\n",
    "AWS_REGION = os.environ.get(\"AWS_REGION\")\n",
    "\n",
    "# --- S3 Setup --- #\n",
    "S3_BUCKET = \"bank-transactions-vishak\"\n",
    "S3_PREFIX = \"result/\"  # the folder inside the bucket\n",
    "\n",
    "# --- Local download folder --- #\n",
    "local_dir = \"/tmp/s3_result_downloads\"\n",
    "os.makedirs(local_dir, exist_ok=True)\n",
    "\n",
    "# --- Initialize S3 client --- #\n",
    "s3 = boto3.client(\n",
    "    \"s3\",\n",
    "    region_name=AWS_REGION,\n",
    "    aws_access_key_id=AWS_ACCESS_KEY_ID,\n",
    "    aws_secret_access_key=AWS_SECRET_ACCESS_KEY\n",
    ")\n",
    "\n",
    "# --- Paginate through all objects in the folder --- #\n",
    "paginator = s3.get_paginator(\"list_objects_v2\")\n",
    "page_iterator = paginator.paginate(Bucket=S3_BUCKET, Prefix=S3_PREFIX)\n",
    "\n",
    "downloaded = 0\n",
    "\n",
    "for page in page_iterator:\n",
    "    for obj in page.get(\"Contents\", []):\n",
    "        key = obj[\"Key\"]\n",
    "\n",
    "        # Skip any folders\n",
    "        if key.endswith(\"/\"):\n",
    "            continue\n",
    "\n",
    "        filename = os.path.basename(key)\n",
    "        local_path = os.path.join(local_dir, filename)\n",
    "\n",
    "        print(f\"⬇️ Downloading {key} → {local_path}\")\n",
    "        s3.download_file(S3_BUCKET, key, local_path)\n",
    "        downloaded += 1\n",
    "\n",
    "print(f\"✅ Download complete: {downloaded} files saved to {local_dir}\")\n"
   ]
  }
 ],
 "metadata": {
  "application/vnd.databricks.v1+notebook": {
   "computePreferences": null,
   "dashboards": [],
   "environmentMetadata": {
    "base_environment": "",
    "environment_version": "1"
   },
   "inputWidgetPreferences": null,
   "language": "python",
   "notebookMetadata": {
    "pythonIndentUnit": 4
   },
   "notebookName": "Mechanism-Y",
   "widgets": {}
  }
 },
 "nbformat": 4,
 "nbformat_minor": 0
}