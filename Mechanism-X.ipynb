{
 "cells": [
  {
   "cell_type": "code",
   "execution_count": 0,
   "metadata": {
    "application/vnd.databricks.v1+cell": {
     "cellMetadata": {
      "byteLimit": 2048000,
      "rowLimit": 10000
     },
     "inputWidgets": {},
     "nuid": "34cf8b24-376f-4266-8547-fa2d850cd06f",
     "showTitle": false,
     "tableResultSettingsMap": {},
     "title": ""
    }
   },
   "outputs": [
    {
     "output_type": "stream",
     "name": "stdout",
     "output_type": "stream",
     "text": [
      "Python interpreter will be restarted.\nRequirement already satisfied: boto3 in /databricks/python3/lib/python3.9/site-packages (1.21.32)\nRequirement already satisfied: pandas in /databricks/python3/lib/python3.9/site-packages (1.4.2)\nRequirement already satisfied: sqlalchemy in /local_disk0/.ephemeral_nfs/envs/pythonEnv-24cda7e4-34d9-4921-b060-b4cbe017e8f2/lib/python3.9/site-packages (2.0.41)\nRequirement already satisfied: psycopg2-binary in /local_disk0/.ephemeral_nfs/envs/pythonEnv-24cda7e4-34d9-4921-b060-b4cbe017e8f2/lib/python3.9/site-packages (2.9.10)\nRequirement already satisfied: botocore<1.25.0,>=1.24.32 in /databricks/python3/lib/python3.9/site-packages (from boto3) (1.24.32)\nRequirement already satisfied: s3transfer<0.6.0,>=0.5.0 in /databricks/python3/lib/python3.9/site-packages (from boto3) (0.5.0)\nRequirement already satisfied: jmespath<2.0.0,>=0.7.1 in /databricks/python3/lib/python3.9/site-packages (from boto3) (0.10.0)\nRequirement already satisfied: python-dateutil>=2.8.1 in /databricks/python3/lib/python3.9/site-packages (from pandas) (2.8.2)\nRequirement already satisfied: numpy>=1.18.5 in /databricks/python3/lib/python3.9/site-packages (from pandas) (1.21.5)\nRequirement already satisfied: pytz>=2020.1 in /databricks/python3/lib/python3.9/site-packages (from pandas) (2021.3)\nRequirement already satisfied: typing-extensions>=4.6.0 in /local_disk0/.ephemeral_nfs/envs/pythonEnv-24cda7e4-34d9-4921-b060-b4cbe017e8f2/lib/python3.9/site-packages (from sqlalchemy) (4.14.0)\nRequirement already satisfied: greenlet>=1 in /local_disk0/.ephemeral_nfs/envs/pythonEnv-24cda7e4-34d9-4921-b060-b4cbe017e8f2/lib/python3.9/site-packages (from sqlalchemy) (3.2.2)\nRequirement already satisfied: urllib3<1.27,>=1.25.4 in /databricks/python3/lib/python3.9/site-packages (from botocore<1.25.0,>=1.24.32->boto3) (1.26.9)\nRequirement already satisfied: six>=1.5 in /databricks/python3/lib/python3.9/site-packages (from python-dateutil>=2.8.1->pandas) (1.16.0)\nPython interpreter will be restarted.\n"
     ]
    }
   ],
   "source": [
    "pip install boto3 pandas sqlalchemy psycopg2-binary\n"
   ]
  },
  {
   "cell_type": "code",
   "execution_count": 0,
   "metadata": {
    "application/vnd.databricks.v1+cell": {
     "cellMetadata": {
      "byteLimit": 2048000,
      "rowLimit": 10000
     },
     "inputWidgets": {},
     "nuid": "eecbd9ce-bc12-491e-a1d0-513b454d5b24",
     "showTitle": false,
     "tableResultSettingsMap": {},
     "title": ""
    }
   },
   "outputs": [
    {
     "output_type": "stream",
     "name": "stdout",
     "output_type": "stream",
     "text": [
      "Python interpreter will be restarted.\nRequirement already satisfied: python-dotenv in /local_disk0/.ephemeral_nfs/envs/pythonEnv-24cda7e4-34d9-4921-b060-b4cbe017e8f2/lib/python3.9/site-packages (1.1.0)\nPython interpreter will be restarted.\n"
     ]
    }
   ],
   "source": [
    "pip install python-dotenv"
   ]
  },
  {
   "cell_type": "code",
   "execution_count": 0,
   "metadata": {
    "application/vnd.databricks.v1+cell": {
     "cellMetadata": {
      "byteLimit": 2048000,
      "rowLimit": 10000
     },
     "inputWidgets": {},
     "nuid": "3b959f72-1e27-4040-9b11-0e5b3d77fa6c",
     "showTitle": false,
     "tableResultSettingsMap": {},
     "title": ""
    }
   },
   "outputs": [
    {
     "output_type": "stream",
     "name": "stdout",
     "output_type": "stream",
     "text": [
      "Python interpreter will be restarted.\nRequirement already satisfied: gdown in /local_disk0/.ephemeral_nfs/envs/pythonEnv-24cda7e4-34d9-4921-b060-b4cbe017e8f2/lib/python3.9/site-packages (5.2.0)\nRequirement already satisfied: requests[socks] in /databricks/python3/lib/python3.9/site-packages (from gdown) (2.27.1)\nRequirement already satisfied: beautifulsoup4 in /databricks/python3/lib/python3.9/site-packages (from gdown) (4.11.1)\nRequirement already satisfied: filelock in /usr/local/lib/python3.9/dist-packages (from gdown) (3.9.0)\nRequirement already satisfied: tqdm in /local_disk0/.ephemeral_nfs/envs/pythonEnv-24cda7e4-34d9-4921-b060-b4cbe017e8f2/lib/python3.9/site-packages (from gdown) (4.67.1)\nRequirement already satisfied: soupsieve>1.2 in /databricks/python3/lib/python3.9/site-packages (from beautifulsoup4->gdown) (2.3.1)\nRequirement already satisfied: charset-normalizer~=2.0.0 in /databricks/python3/lib/python3.9/site-packages (from requests[socks]->gdown) (2.0.4)\nRequirement already satisfied: idna<4,>=2.5 in /databricks/python3/lib/python3.9/site-packages (from requests[socks]->gdown) (3.3)\nRequirement already satisfied: certifi>=2017.4.17 in /databricks/python3/lib/python3.9/site-packages (from requests[socks]->gdown) (2021.10.8)\nRequirement already satisfied: urllib3<1.27,>=1.21.1 in /databricks/python3/lib/python3.9/site-packages (from requests[socks]->gdown) (1.26.9)\nRequirement already satisfied: PySocks!=1.5.7,>=1.5.6 in /local_disk0/.ephemeral_nfs/envs/pythonEnv-24cda7e4-34d9-4921-b060-b4cbe017e8f2/lib/python3.9/site-packages (from requests[socks]->gdown) (1.7.1)\nPython interpreter will be restarted.\n"
     ]
    }
   ],
   "source": [
    "pip install gdown\n"
   ]
  },
  {
   "cell_type": "code",
   "execution_count": 0,
   "metadata": {
    "application/vnd.databricks.v1+cell": {
     "cellMetadata": {
      "byteLimit": 2048000,
      "rowLimit": 10000
     },
     "inputWidgets": {},
     "nuid": "fc72f86b-8ffb-4cac-974b-58dbe28034cc",
     "showTitle": false,
     "tableResultSettingsMap": {},
     "title": ""
    }
   },
   "outputs": [],
   "source": [
    "%run ./env-setup"
   ]
  },
  {
   "cell_type": "code",
   "execution_count": 0,
   "metadata": {
    "application/vnd.databricks.v1+cell": {
     "cellMetadata": {
      "byteLimit": 2048000,
      "rowLimit": 10000
     },
     "inputWidgets": {},
     "nuid": "7fcfb84d-c19e-4f7b-8365-f64ef3ba636d",
     "showTitle": false,
     "tableResultSettingsMap": {},
     "title": ""
    }
   },
   "outputs": [
    {
     "output_type": "display_data",
     "data": {
      "application/vnd.databricks.v1+bamboolib_hint": "{\"pd.DataFrames\": [], \"version\": \"0.0.1\"}",
      "text/plain": []
     },
     "metadata": {},
     "output_type": "display_data"
    }
   ],
   "source": [
    "import pandas as pd\n",
    "import boto3\n",
    "import time\n",
    "import os\n",
    "from dotenv import load_dotenv\n",
    "from io import StringIO\n",
    "import requests\n",
    "import gdown"
   ]
  },
  {
   "cell_type": "code",
   "execution_count": 0,
   "metadata": {
    "application/vnd.databricks.v1+cell": {
     "cellMetadata": {
      "byteLimit": 2048000,
      "rowLimit": 10000
     },
     "inputWidgets": {},
     "nuid": "ca5a59ac-845a-42ef-9614-abff5f7619d3",
     "showTitle": false,
     "tableResultSettingsMap": {},
     "title": ""
    }
   },
   "outputs": [],
   "source": [
    "AWS_ACCESS_KEY_ID = os.environ.get(\"AWS_ACCESS_KEY_ID\")\n",
    "AWS_SECRET_ACCESS_KEY = os.environ.get(\"AWS_SECRET_ACCESS_KEY\")\n",
    "AWS_REGION = os.environ.get(\"AWS_REGION\")\n",
    "S3_BUCKET = os.environ.get(\"S3_BUCKET\")\n",
    "S3_FOLDER = os.environ.get(\"S3_FOLDER\")"
   ]
  },
  {
   "cell_type": "code",
   "execution_count": 0,
   "metadata": {
    "application/vnd.databricks.v1+cell": {
     "cellMetadata": {
      "byteLimit": 2048000,
      "rowLimit": 10000
     },
     "inputWidgets": {},
     "nuid": "e07fd077-18a0-4199-bb6a-355475096c6e",
     "showTitle": false,
     "tableResultSettingsMap": {},
     "title": ""
    }
   },
   "outputs": [
    {
     "output_type": "stream",
     "name": "stdout",
     "output_type": "stream",
     "text": [
      "Downloading files from Google Drive...\n"
     ]
    }
   ],
   "source": [
    "# --- Step 1: Download CSVs from Google Drive --- #\n",
    "# transactions_url = \"https://drive.google.com/file/d/1AGXVlDhbMbhoGXDJG0IThnqz86Qy3hqb/view?usp=drive_link\"\n",
    "customer_importance_url = \"https://drive.google.com/uc?export=download&id=1abe9EkM_uf2F2hjEkbhMBG9Mf2dFE4Wo\"\n",
    "\n",
    "print(\"Downloading files from Google Drive...\")\n",
    "try:\n",
    "    # transactions = pd.read_csv(transactions_url, on_bad_lines='skip')  # Skip bad lines\n",
    "    customer_importance = pd.read_csv(customer_importance_url)\n",
    "except Exception as e:\n",
    "    print(f\"Error downloading files: {e}\")\n",
    "    raise"
   ]
  },
  {
   "cell_type": "code",
   "execution_count": 0,
   "metadata": {
    "application/vnd.databricks.v1+cell": {
     "cellMetadata": {
      "byteLimit": 2048000,
      "rowLimit": 10000
     },
     "inputWidgets": {},
     "nuid": "1e766a2f-c1fb-4536-8426-4961068a88f3",
     "showTitle": false,
     "tableResultSettingsMap": {},
     "title": ""
    }
   },
   "outputs": [
    {
     "output_type": "stream",
     "name": "stderr",
     "output_type": "stream",
     "text": [
      "Downloading...\nFrom: https://drive.google.com/uc?id=1AGXVlDhbMbhoGXDJG0IThnqz86Qy3hqb\nTo: /tmp/transactions.csv\n\r  0%|          | 0.00/49.0M [00:00<?, ?B/s]\r 12%|█▏        | 5.77M/49.0M [00:00<00:00, 57.0MB/s]\r 25%|██▍       | 12.1M/49.0M [00:00<00:00, 60.1MB/s]\r 48%|████▊     | 23.6M/49.0M [00:00<00:00, 82.7MB/s]\r 65%|██████▌   | 32.0M/49.0M [00:00<00:00, 66.4MB/s]\r 90%|████████▉ | 44.0M/49.0M [00:00<00:00, 78.0MB/s]\r100%|██████████| 49.0M/49.0M [00:00<00:00, 72.8MB/s]\n"
     ]
    }
   ],
   "source": [
    "# Google Drive file ID\n",
    "file_id = \"1AGXVlDhbMbhoGXDJG0IThnqz86Qy3hqb\"\n",
    "output = \"/tmp/transactions.csv\"\n",
    "\n",
    "gdown.download(f\"https://drive.google.com/uc?id={file_id}\", output, quiet=False)\n",
    "\n",
    "# Load into pandas\n",
    "transactions = pd.read_csv(output)\n"
   ]
  },
  {
   "cell_type": "code",
   "execution_count": 0,
   "metadata": {
    "application/vnd.databricks.v1+cell": {
     "cellMetadata": {
      "byteLimit": 2048000,
      "rowLimit": 10000
     },
     "inputWidgets": {},
     "nuid": "07a43ae9-38d0-4572-aecc-b2de8a86f098",
     "showTitle": false,
     "tableResultSettingsMap": {},
     "title": ""
    }
   },
   "outputs": [],
   "source": [
    "# Setup S3 client\n",
    "s3 = boto3.client(\n",
    "    \"s3\",\n",
    "    aws_access_key_id=AWS_ACCESS_KEY_ID,\n",
    "    aws_secret_access_key=AWS_SECRET_ACCESS_KEY,\n",
    "    region_name=AWS_REGION\n",
    ")"
   ]
  },
  {
   "cell_type": "code",
   "execution_count": 0,
   "metadata": {
    "application/vnd.databricks.v1+cell": {
     "cellMetadata": {
      "byteLimit": 2048000,
      "rowLimit": 10000
     },
     "inputWidgets": {},
     "nuid": "b436547b-29fc-4e4b-b604-fdbe8e078ce9",
     "showTitle": false,
     "tableResultSettingsMap": {},
     "title": ""
    }
   },
   "outputs": [
    {
     "output_type": "display_data",
     "data": {
      "text/html": [
       "<div>\n",
       "<style scoped>\n",
       "    .dataframe tbody tr th:only-of-type {\n",
       "        vertical-align: middle;\n",
       "    }\n",
       "\n",
       "    .dataframe tbody tr th {\n",
       "        vertical-align: top;\n",
       "    }\n",
       "\n",
       "    .dataframe thead th {\n",
       "        text-align: right;\n",
       "    }\n",
       "</style>\n",
       "<table border=\"1\" class=\"dataframe\">\n",
       "  <thead>\n",
       "    <tr style=\"text-align: right;\">\n",
       "      <th></th>\n",
       "      <th>step</th>\n",
       "      <th>customer</th>\n",
       "      <th>age</th>\n",
       "      <th>gender</th>\n",
       "      <th>zipcodeOri</th>\n",
       "      <th>merchant</th>\n",
       "      <th>zipMerchant</th>\n",
       "      <th>category</th>\n",
       "      <th>amount</th>\n",
       "      <th>fraud</th>\n",
       "    </tr>\n",
       "  </thead>\n",
       "  <tbody>\n",
       "    <tr>\n",
       "      <th>0</th>\n",
       "      <td>0</td>\n",
       "      <td>'C1093826151'</td>\n",
       "      <td>'4'</td>\n",
       "      <td>'M'</td>\n",
       "      <td>'28007'</td>\n",
       "      <td>'M348934600'</td>\n",
       "      <td>'28007'</td>\n",
       "      <td>'es_transportation'</td>\n",
       "      <td>4.55</td>\n",
       "      <td>0</td>\n",
       "    </tr>\n",
       "    <tr>\n",
       "      <th>1</th>\n",
       "      <td>0</td>\n",
       "      <td>'C352968107'</td>\n",
       "      <td>'2'</td>\n",
       "      <td>'M'</td>\n",
       "      <td>'28007'</td>\n",
       "      <td>'M348934600'</td>\n",
       "      <td>'28007'</td>\n",
       "      <td>'es_transportation'</td>\n",
       "      <td>39.68</td>\n",
       "      <td>0</td>\n",
       "    </tr>\n",
       "    <tr>\n",
       "      <th>2</th>\n",
       "      <td>0</td>\n",
       "      <td>'C2054744914'</td>\n",
       "      <td>'4'</td>\n",
       "      <td>'F'</td>\n",
       "      <td>'28007'</td>\n",
       "      <td>'M1823072687'</td>\n",
       "      <td>'28007'</td>\n",
       "      <td>'es_transportation'</td>\n",
       "      <td>26.89</td>\n",
       "      <td>0</td>\n",
       "    </tr>\n",
       "  </tbody>\n",
       "</table>\n",
       "</div>"
      ]
     },
     "metadata": {
      "application/vnd.databricks.v1+output": {
       "addedWidgets": {},
       "arguments": {},
       "data": "<div>\n<style scoped>\n    .dataframe tbody tr th:only-of-type {\n        vertical-align: middle;\n    }\n\n    .dataframe tbody tr th {\n        vertical-align: top;\n    }\n\n    .dataframe thead th {\n        text-align: right;\n    }\n</style>\n<table border=\"1\" class=\"dataframe\">\n  <thead>\n    <tr style=\"text-align: right;\">\n      <th></th>\n      <th>step</th>\n      <th>customer</th>\n      <th>age</th>\n      <th>gender</th>\n      <th>zipcodeOri</th>\n      <th>merchant</th>\n      <th>zipMerchant</th>\n      <th>category</th>\n      <th>amount</th>\n      <th>fraud</th>\n    </tr>\n  </thead>\n  <tbody>\n    <tr>\n      <th>0</th>\n      <td>0</td>\n      <td>'C1093826151'</td>\n      <td>'4'</td>\n      <td>'M'</td>\n      <td>'28007'</td>\n      <td>'M348934600'</td>\n      <td>'28007'</td>\n      <td>'es_transportation'</td>\n      <td>4.55</td>\n      <td>0</td>\n    </tr>\n    <tr>\n      <th>1</th>\n      <td>0</td>\n      <td>'C352968107'</td>\n      <td>'2'</td>\n      <td>'M'</td>\n      <td>'28007'</td>\n      <td>'M348934600'</td>\n      <td>'28007'</td>\n      <td>'es_transportation'</td>\n      <td>39.68</td>\n      <td>0</td>\n    </tr>\n    <tr>\n      <th>2</th>\n      <td>0</td>\n      <td>'C2054744914'</td>\n      <td>'4'</td>\n      <td>'F'</td>\n      <td>'28007'</td>\n      <td>'M1823072687'</td>\n      <td>'28007'</td>\n      <td>'es_transportation'</td>\n      <td>26.89</td>\n      <td>0</td>\n    </tr>\n  </tbody>\n</table>\n</div>",
       "datasetInfos": [],
       "metadata": {},
       "removedWidgets": [],
       "textData": null,
       "type": "htmlSandbox"
      }
     },
     "output_type": "display_data"
    }
   ],
   "source": [
    "transactions.head(3)"
   ]
  },
  {
   "cell_type": "code",
   "execution_count": 0,
   "metadata": {
    "application/vnd.databricks.v1+cell": {
     "cellMetadata": {
      "byteLimit": 2048000,
      "rowLimit": 10000
     },
     "inputWidgets": {},
     "nuid": "193f4e09-d8b3-4ab5-aad4-832c1857173b",
     "showTitle": false,
     "tableResultSettingsMap": {},
     "title": ""
    }
   },
   "outputs": [
    {
     "output_type": "display_data",
     "data": {
      "text/html": [
       "<div>\n",
       "<style scoped>\n",
       "    .dataframe tbody tr th:only-of-type {\n",
       "        vertical-align: middle;\n",
       "    }\n",
       "\n",
       "    .dataframe tbody tr th {\n",
       "        vertical-align: top;\n",
       "    }\n",
       "\n",
       "    .dataframe thead th {\n",
       "        text-align: right;\n",
       "    }\n",
       "</style>\n",
       "<table border=\"1\" class=\"dataframe\">\n",
       "  <thead>\n",
       "    <tr style=\"text-align: right;\">\n",
       "      <th></th>\n",
       "      <th>step</th>\n",
       "      <th>customer</th>\n",
       "      <th>age</th>\n",
       "      <th>gender</th>\n",
       "      <th>zipcodeOri</th>\n",
       "      <th>merchant</th>\n",
       "      <th>zipMerchant</th>\n",
       "      <th>category</th>\n",
       "      <th>amount</th>\n",
       "      <th>fraud</th>\n",
       "    </tr>\n",
       "  </thead>\n",
       "  <tbody>\n",
       "    <tr>\n",
       "      <th>0</th>\n",
       "      <td>0</td>\n",
       "      <td>'C1093826151'</td>\n",
       "      <td>'4'</td>\n",
       "      <td>'M'</td>\n",
       "      <td>'28007'</td>\n",
       "      <td>'M348934600'</td>\n",
       "      <td>'28007'</td>\n",
       "      <td>'es_transportation'</td>\n",
       "      <td>4.55</td>\n",
       "      <td>0</td>\n",
       "    </tr>\n",
       "    <tr>\n",
       "      <th>1</th>\n",
       "      <td>0</td>\n",
       "      <td>'C352968107'</td>\n",
       "      <td>'2'</td>\n",
       "      <td>'M'</td>\n",
       "      <td>'28007'</td>\n",
       "      <td>'M348934600'</td>\n",
       "      <td>'28007'</td>\n",
       "      <td>'es_transportation'</td>\n",
       "      <td>39.68</td>\n",
       "      <td>0</td>\n",
       "    </tr>\n",
       "    <tr>\n",
       "      <th>2</th>\n",
       "      <td>0</td>\n",
       "      <td>'C2054744914'</td>\n",
       "      <td>'4'</td>\n",
       "      <td>'F'</td>\n",
       "      <td>'28007'</td>\n",
       "      <td>'M1823072687'</td>\n",
       "      <td>'28007'</td>\n",
       "      <td>'es_transportation'</td>\n",
       "      <td>26.89</td>\n",
       "      <td>0</td>\n",
       "    </tr>\n",
       "    <tr>\n",
       "      <th>3</th>\n",
       "      <td>0</td>\n",
       "      <td>'C1760612790'</td>\n",
       "      <td>'3'</td>\n",
       "      <td>'M'</td>\n",
       "      <td>'28007'</td>\n",
       "      <td>'M348934600'</td>\n",
       "      <td>'28007'</td>\n",
       "      <td>'es_transportation'</td>\n",
       "      <td>17.25</td>\n",
       "      <td>0</td>\n",
       "    </tr>\n",
       "    <tr>\n",
       "      <th>4</th>\n",
       "      <td>0</td>\n",
       "      <td>'C757503768'</td>\n",
       "      <td>'5'</td>\n",
       "      <td>'M'</td>\n",
       "      <td>'28007'</td>\n",
       "      <td>'M348934600'</td>\n",
       "      <td>'28007'</td>\n",
       "      <td>'es_transportation'</td>\n",
       "      <td>35.72</td>\n",
       "      <td>0</td>\n",
       "    </tr>\n",
       "  </tbody>\n",
       "</table>\n",
       "</div>"
      ]
     },
     "metadata": {
      "application/vnd.databricks.v1+output": {
       "addedWidgets": {},
       "arguments": {},
       "data": "<div>\n<style scoped>\n    .dataframe tbody tr th:only-of-type {\n        vertical-align: middle;\n    }\n\n    .dataframe tbody tr th {\n        vertical-align: top;\n    }\n\n    .dataframe thead th {\n        text-align: right;\n    }\n</style>\n<table border=\"1\" class=\"dataframe\">\n  <thead>\n    <tr style=\"text-align: right;\">\n      <th></th>\n      <th>step</th>\n      <th>customer</th>\n      <th>age</th>\n      <th>gender</th>\n      <th>zipcodeOri</th>\n      <th>merchant</th>\n      <th>zipMerchant</th>\n      <th>category</th>\n      <th>amount</th>\n      <th>fraud</th>\n    </tr>\n  </thead>\n  <tbody>\n    <tr>\n      <th>0</th>\n      <td>0</td>\n      <td>'C1093826151'</td>\n      <td>'4'</td>\n      <td>'M'</td>\n      <td>'28007'</td>\n      <td>'M348934600'</td>\n      <td>'28007'</td>\n      <td>'es_transportation'</td>\n      <td>4.55</td>\n      <td>0</td>\n    </tr>\n    <tr>\n      <th>1</th>\n      <td>0</td>\n      <td>'C352968107'</td>\n      <td>'2'</td>\n      <td>'M'</td>\n      <td>'28007'</td>\n      <td>'M348934600'</td>\n      <td>'28007'</td>\n      <td>'es_transportation'</td>\n      <td>39.68</td>\n      <td>0</td>\n    </tr>\n    <tr>\n      <th>2</th>\n      <td>0</td>\n      <td>'C2054744914'</td>\n      <td>'4'</td>\n      <td>'F'</td>\n      <td>'28007'</td>\n      <td>'M1823072687'</td>\n      <td>'28007'</td>\n      <td>'es_transportation'</td>\n      <td>26.89</td>\n      <td>0</td>\n    </tr>\n    <tr>\n      <th>3</th>\n      <td>0</td>\n      <td>'C1760612790'</td>\n      <td>'3'</td>\n      <td>'M'</td>\n      <td>'28007'</td>\n      <td>'M348934600'</td>\n      <td>'28007'</td>\n      <td>'es_transportation'</td>\n      <td>17.25</td>\n      <td>0</td>\n    </tr>\n    <tr>\n      <th>4</th>\n      <td>0</td>\n      <td>'C757503768'</td>\n      <td>'5'</td>\n      <td>'M'</td>\n      <td>'28007'</td>\n      <td>'M348934600'</td>\n      <td>'28007'</td>\n      <td>'es_transportation'</td>\n      <td>35.72</td>\n      <td>0</td>\n    </tr>\n  </tbody>\n</table>\n</div>",
       "datasetInfos": [],
       "metadata": {},
       "removedWidgets": [],
       "textData": null,
       "type": "htmlSandbox"
      }
     },
     "output_type": "display_data"
    }
   ],
   "source": [
    "df=transactions.copy()\n",
    "df.head()"
   ]
  },
  {
   "cell_type": "code",
   "execution_count": 0,
   "metadata": {
    "application/vnd.databricks.v1+cell": {
     "cellMetadata": {
      "byteLimit": 2048000,
      "rowLimit": 10000
     },
     "inputWidgets": {},
     "nuid": "65e42b33-445f-4af2-905e-0844fff92dbd",
     "showTitle": false,
     "tableResultSettingsMap": {},
     "title": ""
    }
   },
   "outputs": [
    {
     "output_type": "stream",
     "name": "stdout",
     "output_type": "stream",
     "text": [
      "Streaming 60 chunks...\n"
     ]
    }
   ],
   "source": [
    "# Stream transactions in chunks of 10,000 every second\n",
    "CHUNK_SIZE = 10000\n",
    "total_chunks = len(df) // CHUNK_SIZE + (1 if len(df) % CHUNK_SIZE else 0)\n",
    "\n",
    "print(f\"Streaming {total_chunks} chunks...\")\n"
   ]
  },
  {
   "cell_type": "code",
   "execution_count": 0,
   "metadata": {
    "application/vnd.databricks.v1+cell": {
     "cellMetadata": {
      "byteLimit": 2048000,
      "rowLimit": 10000
     },
     "inputWidgets": {},
     "nuid": "3fba61cd-dd9d-415b-a769-416af1569a01",
     "showTitle": false,
     "tableResultSettingsMap": {},
     "title": ""
    }
   },
   "outputs": [
    {
     "output_type": "stream",
     "name": "stdout",
     "output_type": "stream",
     "text": [
      "Streaming 60 chunks...\n[1/60] Uploaded chunk_0001.csv to s3://bank-transactions-vishak/input_chunks/chunk_0001.csv\n[2/60] Uploaded chunk_0002.csv to s3://bank-transactions-vishak/input_chunks/chunk_0002.csv\n[3/60] Uploaded chunk_0003.csv to s3://bank-transactions-vishak/input_chunks/chunk_0003.csv\n[4/60] Uploaded chunk_0004.csv to s3://bank-transactions-vishak/input_chunks/chunk_0004.csv\n[5/60] Uploaded chunk_0005.csv to s3://bank-transactions-vishak/input_chunks/chunk_0005.csv\n[6/60] Uploaded chunk_0006.csv to s3://bank-transactions-vishak/input_chunks/chunk_0006.csv\n[7/60] Uploaded chunk_0007.csv to s3://bank-transactions-vishak/input_chunks/chunk_0007.csv\n[8/60] Uploaded chunk_0008.csv to s3://bank-transactions-vishak/input_chunks/chunk_0008.csv\n[9/60] Uploaded chunk_0009.csv to s3://bank-transactions-vishak/input_chunks/chunk_0009.csv\n[10/60] Uploaded chunk_0010.csv to s3://bank-transactions-vishak/input_chunks/chunk_0010.csv\n[11/60] Uploaded chunk_0011.csv to s3://bank-transactions-vishak/input_chunks/chunk_0011.csv\n[12/60] Uploaded chunk_0012.csv to s3://bank-transactions-vishak/input_chunks/chunk_0012.csv\n[13/60] Uploaded chunk_0013.csv to s3://bank-transactions-vishak/input_chunks/chunk_0013.csv\n[14/60] Uploaded chunk_0014.csv to s3://bank-transactions-vishak/input_chunks/chunk_0014.csv\n[15/60] Uploaded chunk_0015.csv to s3://bank-transactions-vishak/input_chunks/chunk_0015.csv\n[16/60] Uploaded chunk_0016.csv to s3://bank-transactions-vishak/input_chunks/chunk_0016.csv\n[17/60] Uploaded chunk_0017.csv to s3://bank-transactions-vishak/input_chunks/chunk_0017.csv\n[18/60] Uploaded chunk_0018.csv to s3://bank-transactions-vishak/input_chunks/chunk_0018.csv\n[19/60] Uploaded chunk_0019.csv to s3://bank-transactions-vishak/input_chunks/chunk_0019.csv\n[20/60] Uploaded chunk_0020.csv to s3://bank-transactions-vishak/input_chunks/chunk_0020.csv\n[21/60] Uploaded chunk_0021.csv to s3://bank-transactions-vishak/input_chunks/chunk_0021.csv\n[22/60] Uploaded chunk_0022.csv to s3://bank-transactions-vishak/input_chunks/chunk_0022.csv\n[23/60] Uploaded chunk_0023.csv to s3://bank-transactions-vishak/input_chunks/chunk_0023.csv\n[24/60] Uploaded chunk_0024.csv to s3://bank-transactions-vishak/input_chunks/chunk_0024.csv\n[25/60] Uploaded chunk_0025.csv to s3://bank-transactions-vishak/input_chunks/chunk_0025.csv\n[26/60] Uploaded chunk_0026.csv to s3://bank-transactions-vishak/input_chunks/chunk_0026.csv\n[27/60] Uploaded chunk_0027.csv to s3://bank-transactions-vishak/input_chunks/chunk_0027.csv\n[28/60] Uploaded chunk_0028.csv to s3://bank-transactions-vishak/input_chunks/chunk_0028.csv\n[29/60] Uploaded chunk_0029.csv to s3://bank-transactions-vishak/input_chunks/chunk_0029.csv\n[30/60] Uploaded chunk_0030.csv to s3://bank-transactions-vishak/input_chunks/chunk_0030.csv\n[31/60] Uploaded chunk_0031.csv to s3://bank-transactions-vishak/input_chunks/chunk_0031.csv\n[32/60] Uploaded chunk_0032.csv to s3://bank-transactions-vishak/input_chunks/chunk_0032.csv\n[33/60] Uploaded chunk_0033.csv to s3://bank-transactions-vishak/input_chunks/chunk_0033.csv\n[34/60] Uploaded chunk_0034.csv to s3://bank-transactions-vishak/input_chunks/chunk_0034.csv\n[35/60] Uploaded chunk_0035.csv to s3://bank-transactions-vishak/input_chunks/chunk_0035.csv\n[36/60] Uploaded chunk_0036.csv to s3://bank-transactions-vishak/input_chunks/chunk_0036.csv\n[37/60] Uploaded chunk_0037.csv to s3://bank-transactions-vishak/input_chunks/chunk_0037.csv\n[38/60] Uploaded chunk_0038.csv to s3://bank-transactions-vishak/input_chunks/chunk_0038.csv\n[39/60] Uploaded chunk_0039.csv to s3://bank-transactions-vishak/input_chunks/chunk_0039.csv\n[40/60] Uploaded chunk_0040.csv to s3://bank-transactions-vishak/input_chunks/chunk_0040.csv\n[41/60] Uploaded chunk_0041.csv to s3://bank-transactions-vishak/input_chunks/chunk_0041.csv\n[42/60] Uploaded chunk_0042.csv to s3://bank-transactions-vishak/input_chunks/chunk_0042.csv\n[43/60] Uploaded chunk_0043.csv to s3://bank-transactions-vishak/input_chunks/chunk_0043.csv\n[44/60] Uploaded chunk_0044.csv to s3://bank-transactions-vishak/input_chunks/chunk_0044.csv\n[45/60] Uploaded chunk_0045.csv to s3://bank-transactions-vishak/input_chunks/chunk_0045.csv\n[46/60] Uploaded chunk_0046.csv to s3://bank-transactions-vishak/input_chunks/chunk_0046.csv\n[47/60] Uploaded chunk_0047.csv to s3://bank-transactions-vishak/input_chunks/chunk_0047.csv\n[48/60] Uploaded chunk_0048.csv to s3://bank-transactions-vishak/input_chunks/chunk_0048.csv\n[49/60] Uploaded chunk_0049.csv to s3://bank-transactions-vishak/input_chunks/chunk_0049.csv\n[50/60] Uploaded chunk_0050.csv to s3://bank-transactions-vishak/input_chunks/chunk_0050.csv\n[51/60] Uploaded chunk_0051.csv to s3://bank-transactions-vishak/input_chunks/chunk_0051.csv\n[52/60] Uploaded chunk_0052.csv to s3://bank-transactions-vishak/input_chunks/chunk_0052.csv\n[53/60] Uploaded chunk_0053.csv to s3://bank-transactions-vishak/input_chunks/chunk_0053.csv\n[54/60] Uploaded chunk_0054.csv to s3://bank-transactions-vishak/input_chunks/chunk_0054.csv\n[55/60] Uploaded chunk_0055.csv to s3://bank-transactions-vishak/input_chunks/chunk_0055.csv\n[56/60] Uploaded chunk_0056.csv to s3://bank-transactions-vishak/input_chunks/chunk_0056.csv\n[57/60] Uploaded chunk_0057.csv to s3://bank-transactions-vishak/input_chunks/chunk_0057.csv\n[58/60] Uploaded chunk_0058.csv to s3://bank-transactions-vishak/input_chunks/chunk_0058.csv\n[59/60] Uploaded chunk_0059.csv to s3://bank-transactions-vishak/input_chunks/chunk_0059.csv\n[60/60] Uploaded chunk_0060.csv to s3://bank-transactions-vishak/input_chunks/chunk_0060.csv\n"
     ]
    }
   ],
   "source": [
    "# Stream transactions in chunks of 10,000 every second\n",
    "CHUNK_SIZE = 10000\n",
    "total_chunks = len(df) // CHUNK_SIZE + (1 if len(df) % CHUNK_SIZE else 0)\n",
    "\n",
    "print(f\"Streaming {total_chunks} chunks...\")\n",
    "\n",
    "\n",
    "for chunk_num in range(total_chunks):\n",
    "    start_idx = chunk_num * CHUNK_SIZE\n",
    "    end_idx = start_idx + CHUNK_SIZE\n",
    "    chunk_df = df.iloc[start_idx:end_idx]\n",
    "\n",
    "    filename = f\"chunk_{chunk_num+1:04}.csv\"\n",
    "    local_path = f\"/tmp/{filename}\"\n",
    "    s3_path = f\"{S3_FOLDER}/{filename}\"\n",
    "\n",
    "    chunk_df.to_csv(local_path, index=False)\n",
    "    \n",
    "    # Upload to S3\n",
    "    s3.upload_file(local_path, S3_BUCKET, s3_path)\n",
    "    print(f\"[{chunk_num+1}/{total_chunks}] Uploaded {filename} to s3://{S3_BUCKET}/{s3_path}\")\n",
    "    \n",
    "    os.remove(local_path)\n",
    "    # time.sleep(1)"
   ]
  },
  {
   "cell_type": "code",
   "execution_count": 0,
   "metadata": {
    "application/vnd.databricks.v1+cell": {
     "cellMetadata": {
      "byteLimit": 2048000,
      "rowLimit": 10000
     },
     "inputWidgets": {},
     "nuid": "365953d6-67e1-4796-bbcd-f0ee6b3ebe6e",
     "showTitle": false,
     "tableResultSettingsMap": {},
     "title": ""
    }
   },
   "outputs": [
    {
     "output_type": "stream",
     "name": "stdout",
     "output_type": "stream",
     "text": [
      "PostgreSQL tracking table ready\n\n✅ All file processing complete.\nSaved 74437 rows in 1489 batches of 50 rows each\n"
     ]
    }
   ],
   "source": [
    "%run ./Mechanism-Y"
   ]
  },
  {
   "cell_type": "code",
   "execution_count": 0,
   "metadata": {
    "application/vnd.databricks.v1+cell": {
     "cellMetadata": {
      "byteLimit": 2048000,
      "rowLimit": 10000
     },
     "inputWidgets": {},
     "nuid": "06238998-e338-4641-9f11-4c3b1b344019",
     "showTitle": false,
     "tableResultSettingsMap": {},
     "title": ""
    }
   },
   "outputs": [
    {
     "output_type": "stream",
     "name": "stdout",
     "output_type": "stream",
     "text": [
      "+--------------------+---------+----------+------------+-----------+\n|       detectionTime|patternId|ActionType|customerName| MerchantId|\n+--------------------+---------+----------+------------+-----------+\n|2025-06-04 09:39:...|   PatId2|     CHILD|   C74457300|M1823072687|\n|2025-06-04 09:39:...|   PatId2|     CHILD|  C274026379|M1823072687|\n|2025-06-04 09:39:...|   PatId2|     CHILD|  C398651508|M1823072687|\n+--------------------+---------+----------+------------+-----------+\nonly showing top 3 rows\n\n"
     ]
    }
   ],
   "source": [
    "test_file=spark.read.parquet(f's3a://{S3_BUCKET}/result/batch_id=1014/*.parquet')\n",
    "test_file.show(3)"
   ]
  }
 ],
 "metadata": {
  "application/vnd.databricks.v1+notebook": {
   "computePreferences": null,
   "dashboards": [],
   "environmentMetadata": {
    "base_environment": "",
    "environment_version": "1"
   },
   "inputWidgetPreferences": null,
   "language": "python",
   "notebookMetadata": {
    "pythonIndentUnit": 4
   },
   "notebookName": "Mechanism-X",
   "widgets": {}
  }
 },
 "nbformat": 4,
 "nbformat_minor": 0
}